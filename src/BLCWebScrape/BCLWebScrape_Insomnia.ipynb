{
 "cells": [
  {
   "cell_type": "code",
   "execution_count": 125,
   "metadata": {},
   "outputs": [
    {
     "data": {
      "text/html": [
       "        <script type=\"text/javascript\">\n",
       "        window.PlotlyConfig = {MathJaxConfig: 'local'};\n",
       "        if (window.MathJax && window.MathJax.Hub && window.MathJax.Hub.Config) {window.MathJax.Hub.Config({SVG: {font: \"STIX-Web\"}});}\n",
       "        if (typeof require !== 'undefined') {\n",
       "        require.undef(\"plotly\");\n",
       "        requirejs.config({\n",
       "            paths: {\n",
       "                'plotly': ['https://cdn.plot.ly/plotly-2.18.2.min']\n",
       "            }\n",
       "        });\n",
       "        require(['plotly'], function(Plotly) {\n",
       "            window._Plotly = Plotly;\n",
       "        });\n",
       "        }\n",
       "        </script>\n",
       "        "
      ]
     },
     "metadata": {},
     "output_type": "display_data"
    }
   ],
   "source": [
    "import requests\n",
    "import time\n",
    "import csv\n",
    "import http.client\n",
    "import json\n",
    "import pandas as pd\n",
    "import numpy as np\n",
    "\n",
    "from geopy.exc import GeocoderTimedOut\n",
    "from geopy.geocoders import Nominatim\n",
    "\n",
    "import plotly.express as px\n",
    "import plotly.graph_objects as go\n",
    "\n",
    "import country_converter as coco\n",
    "\n",
    "pd.set_option('display.max_columns', 70)\n",
    "\n",
    "import plotly.offline as pyo\n",
    "pyo.init_notebook_mode(connected=True)\n",
    "import plotly.io as pio\n",
    "pio.renderers.default = \"vscode\"\n"
   ]
  },
  {
   "cell_type": "markdown",
   "metadata": {},
   "source": [
    "# Tutorials used\n",
    "- Insomnia scraping  https://www.youtube.com/watch?v=DqtlR0y0suo\n",
    "- geopy https://www.geeksforgeeks.org/how-to-find-longitude-and-latitude-for-a-list-of-regions-or-country-using-python/\n",
    "- Country converter https://pypi.org/project/country-converter/"
   ]
  },
  {
   "cell_type": "markdown",
   "metadata": {},
   "source": [
    "# Run next cell to scrape BCL site and put results into .csv"
   ]
  },
  {
   "cell_type": "code",
   "execution_count": 2,
   "metadata": {},
   "outputs": [],
   "source": [
    "# conn = http.client.HTTPSConnection(\"www.bcliquorstores.com\")\n",
    "\n",
    "# payload = \"\"\n",
    "\n",
    "# ALC_TYPES = ['wine', 'beer', 'spirits', 'coolers/ciders']\n",
    "# # ALC_TYPES = ['beer']\n",
    "\n",
    "# results = []\n",
    "\n",
    "\n",
    "# for ALC in ALC_TYPES:\n",
    "#     headers = {\n",
    "#     # 'Cookie': \"...\",\n",
    "#     'Accept': \"application/json, text/plain, */*\",\n",
    "#     'Accept-Encoding': \"gzip, deflate, br\",\n",
    "#     'Host': \"www.bcliquorstores.com\",\n",
    "#     # 'User-Agent': \"...\",\n",
    "#     'Accept-Language': \"en-gb\",\n",
    "#     'Referer': f\"https://www.bcliquorstores.com/product-catalogue?category={ALC}&sort=name.raw:asc&page=1\",\n",
    "#     'Connection': \"keep-alive\"\n",
    "#     }\n",
    "#     query_string = f\"/ajax/browse?category={ALC}&sort=name.raw%3Aasc&size=1&page=1&=\"\n",
    "#     conn.request(\"GET\", query_string, payload, headers)\n",
    "#     res = conn.getresponse()\n",
    "#     data = res.read()\n",
    "\n",
    "#     my_json = data.decode('utf8').replace(\"'\", '\"')\n",
    "#     num_alc = json.loads(my_json)['hits']['total']\n",
    "\n",
    "#     query_string = f\"/ajax/browse?category={ALC}&sort=name.raw%3Aasc&size={num_alc}&page=1&=\"\n",
    "#     conn.request(\"GET\", query_string, payload, headers)\n",
    "\n",
    "#     res = conn.getresponse()\n",
    "#     data = res.read()\n",
    "#     my_json = data.decode('utf8').replace(\"'\", '\"')\n",
    "#     json_str = json.loads(my_json)  \n",
    "#     for p in json_str['hits']['hits']:\n",
    "#         results.append(p)\n",
    "\n",
    "# df = pd.json_normalize(results)\n",
    "# df.to_csv('data/web-scraped-result.csv')"
   ]
  },
  {
   "cell_type": "markdown",
   "metadata": {},
   "source": [
    "## Run to load info from .csv"
   ]
  },
  {
   "cell_type": "code",
   "execution_count": 4,
   "metadata": {},
   "outputs": [
    {
     "data": {
      "text/html": [
       "<div>\n",
       "<style scoped>\n",
       "    .dataframe tbody tr th:only-of-type {\n",
       "        vertical-align: middle;\n",
       "    }\n",
       "\n",
       "    .dataframe tbody tr th {\n",
       "        vertical-align: top;\n",
       "    }\n",
       "\n",
       "    .dataframe thead th {\n",
       "        text-align: right;\n",
       "    }\n",
       "</style>\n",
       "<table border=\"1\" class=\"dataframe\">\n",
       "  <thead>\n",
       "    <tr style=\"text-align: right;\">\n",
       "      <th></th>\n",
       "      <th>Unnamed: 0</th>\n",
       "      <th>_index</th>\n",
       "      <th>_type</th>\n",
       "      <th>_id</th>\n",
       "      <th>_score</th>\n",
       "      <th>_sort</th>\n",
       "      <th>_source.redVarietal</th>\n",
       "      <th>_source.isVQA</th>\n",
       "      <th>_source.subCategory.description</th>\n",
       "      <th>_source.subCategory.id</th>\n",
       "      <th>...</th>\n",
       "      <th>_source.promotions</th>\n",
       "      <th>_source.nameSanitized</th>\n",
       "      <th>_source.isBCVQA</th>\n",
       "      <th>_source._currentPrice</th>\n",
       "      <th>_source._promotionEndDate</th>\n",
       "      <th>_source.votes</th>\n",
       "      <th>_source.category.description</th>\n",
       "      <th>_source.category.id</th>\n",
       "      <th>_source.is_special_release</th>\n",
       "      <th>_source.availability_override</th>\n",
       "    </tr>\n",
       "  </thead>\n",
       "  <tbody>\n",
       "    <tr>\n",
       "      <th>0</th>\n",
       "      <td>0</td>\n",
       "      <td>bcls</td>\n",
       "      <td>product</td>\n",
       "      <td>122867</td>\n",
       "      <td>0.601447</td>\n",
       "      <td>['ABRUZZO PECORINO - BARONE DI VALFORTE 2020']</td>\n",
       "      <td>NaN</td>\n",
       "      <td>NaN</td>\n",
       "      <td>Italy Wine</td>\n",
       "      <td>1043</td>\n",
       "      <td>...</td>\n",
       "      <td>NaN</td>\n",
       "      <td>abruzzo pecorino - barone di valforte 2020</td>\n",
       "      <td>NaN</td>\n",
       "      <td>17.99</td>\n",
       "      <td>2022-12-31T00:00:00.000-08:00</td>\n",
       "      <td>84</td>\n",
       "      <td>Wine</td>\n",
       "      <td>1005</td>\n",
       "      <td>NaN</td>\n",
       "      <td>NaN</td>\n",
       "    </tr>\n",
       "    <tr>\n",
       "      <th>1</th>\n",
       "      <td>1</td>\n",
       "      <td>bcls</td>\n",
       "      <td>product</td>\n",
       "      <td>432123</td>\n",
       "      <td>0.601447</td>\n",
       "      <td>['ABRUZZO PINOT GRIGIO - MARE DI SIRENA']</td>\n",
       "      <td>NaN</td>\n",
       "      <td>NaN</td>\n",
       "      <td>Italy Wine</td>\n",
       "      <td>1043</td>\n",
       "      <td>...</td>\n",
       "      <td>[{'urlAlias': '/promotion/new-arrivals', 'name...</td>\n",
       "      <td>abruzzo pinot grigio - mare di sirena</td>\n",
       "      <td>NaN</td>\n",
       "      <td>12.99</td>\n",
       "      <td>2022-12-31T00:00:00.000-08:00</td>\n",
       "      <td>18</td>\n",
       "      <td>Wine</td>\n",
       "      <td>1005</td>\n",
       "      <td>NaN</td>\n",
       "      <td>NaN</td>\n",
       "    </tr>\n",
       "    <tr>\n",
       "      <th>2</th>\n",
       "      <td>2</td>\n",
       "      <td>bcls</td>\n",
       "      <td>product</td>\n",
       "      <td>712331</td>\n",
       "      <td>0.601447</td>\n",
       "      <td>['ACQUESI  - ASTI']</td>\n",
       "      <td>NaN</td>\n",
       "      <td>NaN</td>\n",
       "      <td>Italy Wine</td>\n",
       "      <td>1043</td>\n",
       "      <td>...</td>\n",
       "      <td>NaN</td>\n",
       "      <td>acquesi  - asti</td>\n",
       "      <td>NaN</td>\n",
       "      <td>18.49</td>\n",
       "      <td>2022-12-31T00:00:00.000-08:00</td>\n",
       "      <td>293</td>\n",
       "      <td>Wine</td>\n",
       "      <td>1005</td>\n",
       "      <td>NaN</td>\n",
       "      <td>NaN</td>\n",
       "    </tr>\n",
       "    <tr>\n",
       "      <th>3</th>\n",
       "      <td>3</td>\n",
       "      <td>bcls</td>\n",
       "      <td>product</td>\n",
       "      <td>783498</td>\n",
       "      <td>0.595873</td>\n",
       "      <td>['AGLIANICO DEL VULTURE - BASILISCO TEODOSIO 2...</td>\n",
       "      <td>Aglianico</td>\n",
       "      <td>NaN</td>\n",
       "      <td>Italy Wine</td>\n",
       "      <td>1043</td>\n",
       "      <td>...</td>\n",
       "      <td>NaN</td>\n",
       "      <td>aglianico del vulture - basilisco teodosio 2019</td>\n",
       "      <td>NaN</td>\n",
       "      <td>21.99</td>\n",
       "      <td>2022-12-31T00:00:00.000-08:00</td>\n",
       "      <td>233</td>\n",
       "      <td>Wine</td>\n",
       "      <td>1005</td>\n",
       "      <td>NaN</td>\n",
       "      <td>NaN</td>\n",
       "    </tr>\n",
       "    <tr>\n",
       "      <th>4</th>\n",
       "      <td>4</td>\n",
       "      <td>bcls</td>\n",
       "      <td>product</td>\n",
       "      <td>556126</td>\n",
       "      <td>0.601447</td>\n",
       "      <td>['AIX EN PROVENCE ROSE - BIELER PERE &amp; FILS CU...</td>\n",
       "      <td>NaN</td>\n",
       "      <td>NaN</td>\n",
       "      <td>France Wine</td>\n",
       "      <td>1037</td>\n",
       "      <td>...</td>\n",
       "      <td>NaN</td>\n",
       "      <td>aix en provence rose - bieler pere &amp; fils cuve...</td>\n",
       "      <td>NaN</td>\n",
       "      <td>15.97</td>\n",
       "      <td>2022-12-31T00:00:00.000-08:00</td>\n",
       "      <td>116</td>\n",
       "      <td>Wine</td>\n",
       "      <td>1005</td>\n",
       "      <td>NaN</td>\n",
       "      <td>NaN</td>\n",
       "    </tr>\n",
       "  </tbody>\n",
       "</table>\n",
       "<p>5 rows × 78 columns</p>\n",
       "</div>"
      ],
      "text/plain": [
       "   Unnamed: 0 _index    _type     _id    _score  \\\n",
       "0           0   bcls  product  122867  0.601447   \n",
       "1           1   bcls  product  432123  0.601447   \n",
       "2           2   bcls  product  712331  0.601447   \n",
       "3           3   bcls  product  783498  0.595873   \n",
       "4           4   bcls  product  556126  0.601447   \n",
       "\n",
       "                                               _sort _source.redVarietal  \\\n",
       "0     ['ABRUZZO PECORINO - BARONE DI VALFORTE 2020']                 NaN   \n",
       "1          ['ABRUZZO PINOT GRIGIO - MARE DI SIRENA']                 NaN   \n",
       "2                                ['ACQUESI  - ASTI']                 NaN   \n",
       "3  ['AGLIANICO DEL VULTURE - BASILISCO TEODOSIO 2...           Aglianico   \n",
       "4  ['AIX EN PROVENCE ROSE - BIELER PERE & FILS CU...                 NaN   \n",
       "\n",
       "  _source.isVQA _source.subCategory.description  _source.subCategory.id  ...  \\\n",
       "0           NaN                      Italy Wine                    1043  ...   \n",
       "1           NaN                      Italy Wine                    1043  ...   \n",
       "2           NaN                      Italy Wine                    1043  ...   \n",
       "3           NaN                      Italy Wine                    1043  ...   \n",
       "4           NaN                     France Wine                    1037  ...   \n",
       "\n",
       "                                  _source.promotions  \\\n",
       "0                                                NaN   \n",
       "1  [{'urlAlias': '/promotion/new-arrivals', 'name...   \n",
       "2                                                NaN   \n",
       "3                                                NaN   \n",
       "4                                                NaN   \n",
       "\n",
       "                               _source.nameSanitized _source.isBCVQA  \\\n",
       "0         abruzzo pecorino - barone di valforte 2020             NaN   \n",
       "1              abruzzo pinot grigio - mare di sirena             NaN   \n",
       "2                                    acquesi  - asti             NaN   \n",
       "3    aglianico del vulture - basilisco teodosio 2019             NaN   \n",
       "4  aix en provence rose - bieler pere & fils cuve...             NaN   \n",
       "\n",
       "   _source._currentPrice      _source._promotionEndDate _source.votes  \\\n",
       "0                  17.99  2022-12-31T00:00:00.000-08:00            84   \n",
       "1                  12.99  2022-12-31T00:00:00.000-08:00            18   \n",
       "2                  18.49  2022-12-31T00:00:00.000-08:00           293   \n",
       "3                  21.99  2022-12-31T00:00:00.000-08:00           233   \n",
       "4                  15.97  2022-12-31T00:00:00.000-08:00           116   \n",
       "\n",
       "  _source.category.description _source.category.id _source.is_special_release  \\\n",
       "0                         Wine                1005                        NaN   \n",
       "1                         Wine                1005                        NaN   \n",
       "2                         Wine                1005                        NaN   \n",
       "3                         Wine                1005                        NaN   \n",
       "4                         Wine                1005                        NaN   \n",
       "\n",
       "  _source.availability_override  \n",
       "0                           NaN  \n",
       "1                           NaN  \n",
       "2                           NaN  \n",
       "3                           NaN  \n",
       "4                           NaN  \n",
       "\n",
       "[5 rows x 78 columns]"
      ]
     },
     "execution_count": 4,
     "metadata": {},
     "output_type": "execute_result"
    }
   ],
   "source": [
    "df = pd.read_csv('data/web-scraped-result.csv',\n",
    "                delimiter=',',            # Comma as delimiter\n",
    "                 quotechar='\"',            # Use double quotes for quoting\n",
    "                quoting=csv.QUOTE_MINIMAL,  # Minimal quoting (or csv.QUOTE_ALL as needed)\n",
    "                doublequote=True, \n",
    "                encoding='utf-8',\n",
    "                )\n",
    "df.head()"
   ]
  },
  {
   "cell_type": "code",
   "execution_count": 24,
   "metadata": {},
   "outputs": [
    {
     "name": "stdout",
     "output_type": "stream",
     "text": [
      "Number of columns = 56\n"
     ]
    }
   ],
   "source": [
    "print(f'Number of columns = {len(df.columns)}')"
   ]
  },
  {
   "cell_type": "markdown",
   "metadata": {},
   "source": [
    "## Removing categorical columns that are not useful / interesting and have less than 4 values."
   ]
  },
  {
   "cell_type": "code",
   "execution_count": 22,
   "metadata": {},
   "outputs": [
    {
     "name": "stdout",
     "output_type": "stream",
     "text": [
      "_index || ['bcls']\n",
      "_type || ['product']\n",
      "_source.isVQA || [nan True]\n",
      "_source._isLimitedTimeOffer || [True nan]\n",
      "_source.isCraft || [nan True False]\n",
      "_source.isDraft || [nan False]\n",
      "_source._promotionStartDate || ['2022-11-27T00:00:00.000-08:00' nan '2022-10-30T00:00:00.000-07:00']\n",
      "_source.isBCSpirit || [nan]\n",
      "_source.isLimitedTimeOffer || [True nan]\n",
      "_source.last_updated || ['2022-11-27 21:10:01']\n",
      "_source._blacklist || [False]\n",
      "_source.isDealcoholizedWine || [nan True]\n",
      "_source.isBCCraft || [False  True]\n",
      "_source.statusCode || [2 3]\n",
      "_source.status || [2 3]\n",
      "_source.isOrganic || [False True nan]\n",
      "_source.isExclusive || [ True False]\n",
      "_source.isOntarioVQA || [nan True]\n",
      "_source.isKosher || [False True nan]\n",
      "_source._whitelist || [False  True]\n",
      "_source.inventoryCode || [0 1]\n",
      "_source.isNew || [False  True]\n",
      "_source.isBCVQA || [nan True]\n",
      "_source._promotionEndDate || ['2022-12-31T00:00:00.000-08:00' nan '2022-11-27T00:00:00.000-08:00']\n",
      "_source.is_special_release || [nan False]\n",
      "_source.availability_override || [nan 'Available Dec 03']\n",
      "['_source.isVQA', '_source.isNew', '_index', '_source.availability_override', '_type', '_source.status', '_source._promotionStartDate', '_source.isBCSpirit', '_source.isBCVQA', '_source._blacklist', '_source.isExclusive', '_source._promotionEndDate', '_source.isOntarioVQA', '_source._whitelist', '_source.isBCCraft', '_source.last_updated', '_source.inventoryCode', '_source.is_special_release', '_source.isDraft', '_source._isLimitedTimeOffer', '_source.statusCode', '_source.isLimitedTimeOffer']\n"
     ]
    }
   ],
   "source": [
    "boring_cols = []\n",
    "\n",
    "for col in df.columns:\n",
    "    unique_vals = df[col].unique()\n",
    "\n",
    "    if len(unique_vals) < 4:\n",
    "        print(f'{col} || {unique_vals}')\n",
    "\n",
    "        boring_cols.append(col)\n",
    "\n",
    "keep_cols = ['_source.isCraft', \n",
    "             '_source.isDealcoholizedWine',\n",
    "             '_source.isOrganic',\n",
    "             '_source.isKosher']\n",
    "\n",
    "\n",
    "boring_cols = list(set(boring_cols) - set(keep_cols))\n",
    "df.drop(columns = boring_cols, inplace=True)\n",
    "\n",
    "print(boring_cols)"
   ]
  },
  {
   "cell_type": "markdown",
   "metadata": {},
   "source": [
    "## Count columns with atleast one nan and without any nan's"
   ]
  },
  {
   "cell_type": "code",
   "execution_count": 34,
   "metadata": {},
   "outputs": [
    {
     "name": "stdout",
     "output_type": "stream",
     "text": [
      "Number of columns = 56\n",
      "Number of columns with some nan = 22\n",
      "Number of columns with no nan = 34\n"
     ]
    }
   ],
   "source": [
    "print(f'Number of columns = {len(df.columns)}')\n",
    "\n",
    "contains_nan = df.columns[df.isna().any()].tolist()\n",
    "no_nan = df.columns[df.notna().all()].tolist()\n",
    "\n",
    "print(f'Number of columns with some nan = {len(contains_nan)}')\n",
    "print(f'Number of columns with no nan = {len(no_nan)}')"
   ]
  },
  {
   "cell_type": "markdown",
   "metadata": {},
   "source": [
    "### Looking through columns more carefully.\n",
    "\n",
    "Seeing what has useful information for classifying the product and what are good variables that can be used in analysis. "
   ]
  },
  {
   "cell_type": "code",
   "execution_count": 79,
   "metadata": {},
   "outputs": [
    {
     "data": {
      "text/html": [
       "<div>\n",
       "<style scoped>\n",
       "    .dataframe tbody tr th:only-of-type {\n",
       "        vertical-align: middle;\n",
       "    }\n",
       "\n",
       "    .dataframe tbody tr th {\n",
       "        vertical-align: top;\n",
       "    }\n",
       "\n",
       "    .dataframe thead th {\n",
       "        text-align: right;\n",
       "    }\n",
       "</style>\n",
       "<table border=\"1\" class=\"dataframe\">\n",
       "  <thead>\n",
       "    <tr style=\"text-align: right;\">\n",
       "      <th></th>\n",
       "      <th>_score</th>\n",
       "      <th>_sort</th>\n",
       "      <th>_source.redVarietal</th>\n",
       "      <th>_source.subCategory.description</th>\n",
       "      <th>_source.consumerRating</th>\n",
       "      <th>_source.featured</th>\n",
       "      <th>_source.regularPrice</th>\n",
       "      <th>_source.isCraft</th>\n",
       "      <th>_source.whiteVarietal</th>\n",
       "      <th>_source.tastingDescription</th>\n",
       "      <th>_source._featured</th>\n",
       "      <th>_source.availableUnits</th>\n",
       "      <th>_source.subRegion</th>\n",
       "      <th>_source.unitSize</th>\n",
       "      <th>_source.isDealcoholizedWine</th>\n",
       "      <th>_source.volume</th>\n",
       "      <th>_source.certificates</th>\n",
       "      <th>_source.name</th>\n",
       "      <th>_source.style</th>\n",
       "      <th>_source.countryName</th>\n",
       "      <th>_source.region</th>\n",
       "      <th>_source.color</th>\n",
       "      <th>_source.grapeType</th>\n",
       "      <th>_source._regularPrice</th>\n",
       "      <th>_source.isOrganic</th>\n",
       "      <th>_source.storeCount</th>\n",
       "      <th>_source.nameSuffix</th>\n",
       "      <th>_source.alcoholPercentage</th>\n",
       "      <th>_source.productCategory</th>\n",
       "      <th>_source.all_featured</th>\n",
       "      <th>_source.productSubCategory</th>\n",
       "      <th>_source.namePrefix</th>\n",
       "      <th>_source.countryCode</th>\n",
       "      <th>_source.class.description</th>\n",
       "      <th>_source.productType</th>\n",
       "      <th>_source.isKosher</th>\n",
       "      <th>_source.currentPrice</th>\n",
       "      <th>_source.sweetness</th>\n",
       "      <th>_source._currentPrice</th>\n",
       "      <th>_source.votes</th>\n",
       "      <th>_source.category.description</th>\n",
       "    </tr>\n",
       "  </thead>\n",
       "  <tbody>\n",
       "    <tr>\n",
       "      <th>count</th>\n",
       "      <td>5548.000000</td>\n",
       "      <td>5548</td>\n",
       "      <td>2051</td>\n",
       "      <td>5548</td>\n",
       "      <td>5548.000000</td>\n",
       "      <td>5548</td>\n",
       "      <td>5548.000000</td>\n",
       "      <td>462</td>\n",
       "      <td>1001</td>\n",
       "      <td>5548</td>\n",
       "      <td>5548</td>\n",
       "      <td>5548.000000</td>\n",
       "      <td>1953</td>\n",
       "      <td>5548.000000</td>\n",
       "      <td>1</td>\n",
       "      <td>5548.000000</td>\n",
       "      <td>5548</td>\n",
       "      <td>5548</td>\n",
       "      <td>460</td>\n",
       "      <td>5548</td>\n",
       "      <td>2758</td>\n",
       "      <td>3523</td>\n",
       "      <td>3523</td>\n",
       "      <td>5548.000000</td>\n",
       "      <td>5546</td>\n",
       "      <td>5529.000000</td>\n",
       "      <td>5547</td>\n",
       "      <td>5548.000000</td>\n",
       "      <td>475</td>\n",
       "      <td>5548</td>\n",
       "      <td>347</td>\n",
       "      <td>5087</td>\n",
       "      <td>5548</td>\n",
       "      <td>5548</td>\n",
       "      <td>5073</td>\n",
       "      <td>5546</td>\n",
       "      <td>5548.000000</td>\n",
       "      <td>2898.000000</td>\n",
       "      <td>5548.000000</td>\n",
       "      <td>5548.000000</td>\n",
       "      <td>5548</td>\n",
       "    </tr>\n",
       "    <tr>\n",
       "      <th>unique</th>\n",
       "      <td>NaN</td>\n",
       "      <td>5068</td>\n",
       "      <td>43</td>\n",
       "      <td>39</td>\n",
       "      <td>NaN</td>\n",
       "      <td>8</td>\n",
       "      <td>NaN</td>\n",
       "      <td>2</td>\n",
       "      <td>29</td>\n",
       "      <td>4684</td>\n",
       "      <td>8</td>\n",
       "      <td>NaN</td>\n",
       "      <td>50</td>\n",
       "      <td>NaN</td>\n",
       "      <td>1</td>\n",
       "      <td>NaN</td>\n",
       "      <td>7</td>\n",
       "      <td>5068</td>\n",
       "      <td>26</td>\n",
       "      <td>65</td>\n",
       "      <td>55</td>\n",
       "      <td>4</td>\n",
       "      <td>71</td>\n",
       "      <td>NaN</td>\n",
       "      <td>2</td>\n",
       "      <td>NaN</td>\n",
       "      <td>4500</td>\n",
       "      <td>NaN</td>\n",
       "      <td>3</td>\n",
       "      <td>14</td>\n",
       "      <td>3</td>\n",
       "      <td>1784</td>\n",
       "      <td>65</td>\n",
       "      <td>155</td>\n",
       "      <td>22</td>\n",
       "      <td>2</td>\n",
       "      <td>NaN</td>\n",
       "      <td>NaN</td>\n",
       "      <td>NaN</td>\n",
       "      <td>NaN</td>\n",
       "      <td>5</td>\n",
       "    </tr>\n",
       "    <tr>\n",
       "      <th>top</th>\n",
       "      <td>NaN</td>\n",
       "      <td>['FIREBALL']</td>\n",
       "      <td>Bordeaux Blend</td>\n",
       "      <td>France Wine</td>\n",
       "      <td>NaN</td>\n",
       "      <td>[]</td>\n",
       "      <td>NaN</td>\n",
       "      <td>False</td>\n",
       "      <td>Other Blend</td>\n",
       "      <td>False</td>\n",
       "      <td>[]</td>\n",
       "      <td>NaN</td>\n",
       "      <td>Other</td>\n",
       "      <td>NaN</td>\n",
       "      <td>True</td>\n",
       "      <td>NaN</td>\n",
       "      <td>[]</td>\n",
       "      <td>FIREBALL</td>\n",
       "      <td>Lager</td>\n",
       "      <td>France</td>\n",
       "      <td>Bordeaux</td>\n",
       "      <td>RED</td>\n",
       "      <td>BORDEAUX BLEND</td>\n",
       "      <td>NaN</td>\n",
       "      <td>False</td>\n",
       "      <td>NaN</td>\n",
       "      <td>12 YEAR OLD</td>\n",
       "      <td>NaN</td>\n",
       "      <td>Domestic Beer</td>\n",
       "      <td>[]</td>\n",
       "      <td>BC Craft Beer</td>\n",
       "      <td>CABERNET SAUVIGNON</td>\n",
       "      <td>FR</td>\n",
       "      <td>France Red Wine</td>\n",
       "      <td>Red Wine</td>\n",
       "      <td>False</td>\n",
       "      <td>NaN</td>\n",
       "      <td>NaN</td>\n",
       "      <td>NaN</td>\n",
       "      <td>NaN</td>\n",
       "      <td>Wine</td>\n",
       "    </tr>\n",
       "    <tr>\n",
       "      <th>freq</th>\n",
       "      <td>NaN</td>\n",
       "      <td>7</td>\n",
       "      <td>563</td>\n",
       "      <td>1277</td>\n",
       "      <td>NaN</td>\n",
       "      <td>5367</td>\n",
       "      <td>NaN</td>\n",
       "      <td>301</td>\n",
       "      <td>266</td>\n",
       "      <td>278</td>\n",
       "      <td>5367</td>\n",
       "      <td>NaN</td>\n",
       "      <td>607</td>\n",
       "      <td>NaN</td>\n",
       "      <td>1</td>\n",
       "      <td>NaN</td>\n",
       "      <td>5093</td>\n",
       "      <td>7</td>\n",
       "      <td>157</td>\n",
       "      <td>1387</td>\n",
       "      <td>610</td>\n",
       "      <td>2051</td>\n",
       "      <td>611</td>\n",
       "      <td>NaN</td>\n",
       "      <td>5450</td>\n",
       "      <td>NaN</td>\n",
       "      <td>26</td>\n",
       "      <td>NaN</td>\n",
       "      <td>347</td>\n",
       "      <td>3172</td>\n",
       "      <td>206</td>\n",
       "      <td>187</td>\n",
       "      <td>1387</td>\n",
       "      <td>755</td>\n",
       "      <td>2021</td>\n",
       "      <td>5508</td>\n",
       "      <td>NaN</td>\n",
       "      <td>NaN</td>\n",
       "      <td>NaN</td>\n",
       "      <td>NaN</td>\n",
       "      <td>3530</td>\n",
       "    </tr>\n",
       "    <tr>\n",
       "      <th>mean</th>\n",
       "      <td>0.498403</td>\n",
       "      <td>NaN</td>\n",
       "      <td>NaN</td>\n",
       "      <td>NaN</td>\n",
       "      <td>3.593980</td>\n",
       "      <td>NaN</td>\n",
       "      <td>216.672383</td>\n",
       "      <td>NaN</td>\n",
       "      <td>NaN</td>\n",
       "      <td>NaN</td>\n",
       "      <td>NaN</td>\n",
       "      <td>1454.248198</td>\n",
       "      <td>NaN</td>\n",
       "      <td>1.777758</td>\n",
       "      <td>NaN</td>\n",
       "      <td>0.843881</td>\n",
       "      <td>NaN</td>\n",
       "      <td>NaN</td>\n",
       "      <td>NaN</td>\n",
       "      <td>NaN</td>\n",
       "      <td>NaN</td>\n",
       "      <td>NaN</td>\n",
       "      <td>NaN</td>\n",
       "      <td>216.672383</td>\n",
       "      <td>NaN</td>\n",
       "      <td>69.521432</td>\n",
       "      <td>NaN</td>\n",
       "      <td>18.977648</td>\n",
       "      <td>NaN</td>\n",
       "      <td>NaN</td>\n",
       "      <td>NaN</td>\n",
       "      <td>NaN</td>\n",
       "      <td>NaN</td>\n",
       "      <td>NaN</td>\n",
       "      <td>NaN</td>\n",
       "      <td>NaN</td>\n",
       "      <td>215.900339</td>\n",
       "      <td>0.700138</td>\n",
       "      <td>215.900339</td>\n",
       "      <td>75.382300</td>\n",
       "      <td>NaN</td>\n",
       "    </tr>\n",
       "    <tr>\n",
       "      <th>std</th>\n",
       "      <td>0.136803</td>\n",
       "      <td>NaN</td>\n",
       "      <td>NaN</td>\n",
       "      <td>NaN</td>\n",
       "      <td>1.271495</td>\n",
       "      <td>NaN</td>\n",
       "      <td>1549.303348</td>\n",
       "      <td>NaN</td>\n",
       "      <td>NaN</td>\n",
       "      <td>NaN</td>\n",
       "      <td>NaN</td>\n",
       "      <td>2966.984517</td>\n",
       "      <td>NaN</td>\n",
       "      <td>3.009659</td>\n",
       "      <td>NaN</td>\n",
       "      <td>1.017603</td>\n",
       "      <td>NaN</td>\n",
       "      <td>NaN</td>\n",
       "      <td>NaN</td>\n",
       "      <td>NaN</td>\n",
       "      <td>NaN</td>\n",
       "      <td>NaN</td>\n",
       "      <td>NaN</td>\n",
       "      <td>1549.303348</td>\n",
       "      <td>NaN</td>\n",
       "      <td>65.518562</td>\n",
       "      <td>NaN</td>\n",
       "      <td>13.192768</td>\n",
       "      <td>NaN</td>\n",
       "      <td>NaN</td>\n",
       "      <td>NaN</td>\n",
       "      <td>NaN</td>\n",
       "      <td>NaN</td>\n",
       "      <td>NaN</td>\n",
       "      <td>NaN</td>\n",
       "      <td>NaN</td>\n",
       "      <td>1549.375563</td>\n",
       "      <td>2.081728</td>\n",
       "      <td>1549.375563</td>\n",
       "      <td>103.675391</td>\n",
       "      <td>NaN</td>\n",
       "    </tr>\n",
       "    <tr>\n",
       "      <th>min</th>\n",
       "      <td>0.200588</td>\n",
       "      <td>NaN</td>\n",
       "      <td>NaN</td>\n",
       "      <td>NaN</td>\n",
       "      <td>0.000000</td>\n",
       "      <td>NaN</td>\n",
       "      <td>1.990000</td>\n",
       "      <td>NaN</td>\n",
       "      <td>NaN</td>\n",
       "      <td>NaN</td>\n",
       "      <td>NaN</td>\n",
       "      <td>0.000000</td>\n",
       "      <td>NaN</td>\n",
       "      <td>1.000000</td>\n",
       "      <td>NaN</td>\n",
       "      <td>0.030000</td>\n",
       "      <td>NaN</td>\n",
       "      <td>NaN</td>\n",
       "      <td>NaN</td>\n",
       "      <td>NaN</td>\n",
       "      <td>NaN</td>\n",
       "      <td>NaN</td>\n",
       "      <td>NaN</td>\n",
       "      <td>1.990000</td>\n",
       "      <td>NaN</td>\n",
       "      <td>1.000000</td>\n",
       "      <td>NaN</td>\n",
       "      <td>0.000000</td>\n",
       "      <td>NaN</td>\n",
       "      <td>NaN</td>\n",
       "      <td>NaN</td>\n",
       "      <td>NaN</td>\n",
       "      <td>NaN</td>\n",
       "      <td>NaN</td>\n",
       "      <td>NaN</td>\n",
       "      <td>NaN</td>\n",
       "      <td>1.990000</td>\n",
       "      <td>0.000000</td>\n",
       "      <td>1.990000</td>\n",
       "      <td>0.000000</td>\n",
       "      <td>NaN</td>\n",
       "    </tr>\n",
       "    <tr>\n",
       "      <th>25%</th>\n",
       "      <td>0.362997</td>\n",
       "      <td>NaN</td>\n",
       "      <td>NaN</td>\n",
       "      <td>NaN</td>\n",
       "      <td>3.400000</td>\n",
       "      <td>NaN</td>\n",
       "      <td>19.990000</td>\n",
       "      <td>NaN</td>\n",
       "      <td>NaN</td>\n",
       "      <td>NaN</td>\n",
       "      <td>NaN</td>\n",
       "      <td>67.000000</td>\n",
       "      <td>NaN</td>\n",
       "      <td>1.000000</td>\n",
       "      <td>NaN</td>\n",
       "      <td>0.750000</td>\n",
       "      <td>NaN</td>\n",
       "      <td>NaN</td>\n",
       "      <td>NaN</td>\n",
       "      <td>NaN</td>\n",
       "      <td>NaN</td>\n",
       "      <td>NaN</td>\n",
       "      <td>NaN</td>\n",
       "      <td>19.990000</td>\n",
       "      <td>NaN</td>\n",
       "      <td>7.000000</td>\n",
       "      <td>NaN</td>\n",
       "      <td>12.500000</td>\n",
       "      <td>NaN</td>\n",
       "      <td>NaN</td>\n",
       "      <td>NaN</td>\n",
       "      <td>NaN</td>\n",
       "      <td>NaN</td>\n",
       "      <td>NaN</td>\n",
       "      <td>NaN</td>\n",
       "      <td>NaN</td>\n",
       "      <td>18.990000</td>\n",
       "      <td>0.000000</td>\n",
       "      <td>18.990000</td>\n",
       "      <td>7.000000</td>\n",
       "      <td>NaN</td>\n",
       "    </tr>\n",
       "    <tr>\n",
       "      <th>50%</th>\n",
       "      <td>0.595873</td>\n",
       "      <td>NaN</td>\n",
       "      <td>NaN</td>\n",
       "      <td>NaN</td>\n",
       "      <td>3.900000</td>\n",
       "      <td>NaN</td>\n",
       "      <td>35.490000</td>\n",
       "      <td>NaN</td>\n",
       "      <td>NaN</td>\n",
       "      <td>NaN</td>\n",
       "      <td>NaN</td>\n",
       "      <td>574.000000</td>\n",
       "      <td>NaN</td>\n",
       "      <td>1.000000</td>\n",
       "      <td>NaN</td>\n",
       "      <td>0.750000</td>\n",
       "      <td>NaN</td>\n",
       "      <td>NaN</td>\n",
       "      <td>NaN</td>\n",
       "      <td>NaN</td>\n",
       "      <td>NaN</td>\n",
       "      <td>NaN</td>\n",
       "      <td>NaN</td>\n",
       "      <td>35.490000</td>\n",
       "      <td>NaN</td>\n",
       "      <td>49.000000</td>\n",
       "      <td>NaN</td>\n",
       "      <td>13.500000</td>\n",
       "      <td>NaN</td>\n",
       "      <td>NaN</td>\n",
       "      <td>NaN</td>\n",
       "      <td>NaN</td>\n",
       "      <td>NaN</td>\n",
       "      <td>NaN</td>\n",
       "      <td>NaN</td>\n",
       "      <td>NaN</td>\n",
       "      <td>34.990000</td>\n",
       "      <td>0.000000</td>\n",
       "      <td>34.990000</td>\n",
       "      <td>41.000000</td>\n",
       "      <td>NaN</td>\n",
       "    </tr>\n",
       "    <tr>\n",
       "      <th>75%</th>\n",
       "      <td>0.601447</td>\n",
       "      <td>NaN</td>\n",
       "      <td>NaN</td>\n",
       "      <td>NaN</td>\n",
       "      <td>4.300000</td>\n",
       "      <td>NaN</td>\n",
       "      <td>87.990000</td>\n",
       "      <td>NaN</td>\n",
       "      <td>NaN</td>\n",
       "      <td>NaN</td>\n",
       "      <td>NaN</td>\n",
       "      <td>1768.250000</td>\n",
       "      <td>NaN</td>\n",
       "      <td>1.000000</td>\n",
       "      <td>NaN</td>\n",
       "      <td>0.750000</td>\n",
       "      <td>NaN</td>\n",
       "      <td>NaN</td>\n",
       "      <td>NaN</td>\n",
       "      <td>NaN</td>\n",
       "      <td>NaN</td>\n",
       "      <td>NaN</td>\n",
       "      <td>NaN</td>\n",
       "      <td>87.990000</td>\n",
       "      <td>NaN</td>\n",
       "      <td>123.000000</td>\n",
       "      <td>NaN</td>\n",
       "      <td>17.000000</td>\n",
       "      <td>NaN</td>\n",
       "      <td>NaN</td>\n",
       "      <td>NaN</td>\n",
       "      <td>NaN</td>\n",
       "      <td>NaN</td>\n",
       "      <td>NaN</td>\n",
       "      <td>NaN</td>\n",
       "      <td>NaN</td>\n",
       "      <td>86.990000</td>\n",
       "      <td>0.000000</td>\n",
       "      <td>86.990000</td>\n",
       "      <td>107.000000</td>\n",
       "      <td>NaN</td>\n",
       "    </tr>\n",
       "    <tr>\n",
       "      <th>max</th>\n",
       "      <td>0.601447</td>\n",
       "      <td>NaN</td>\n",
       "      <td>NaN</td>\n",
       "      <td>NaN</td>\n",
       "      <td>5.000000</td>\n",
       "      <td>NaN</td>\n",
       "      <td>39000.000000</td>\n",
       "      <td>NaN</td>\n",
       "      <td>NaN</td>\n",
       "      <td>NaN</td>\n",
       "      <td>NaN</td>\n",
       "      <td>64554.000000</td>\n",
       "      <td>NaN</td>\n",
       "      <td>36.000000</td>\n",
       "      <td>NaN</td>\n",
       "      <td>18.000000</td>\n",
       "      <td>NaN</td>\n",
       "      <td>NaN</td>\n",
       "      <td>NaN</td>\n",
       "      <td>NaN</td>\n",
       "      <td>NaN</td>\n",
       "      <td>NaN</td>\n",
       "      <td>NaN</td>\n",
       "      <td>39000.000000</td>\n",
       "      <td>NaN</td>\n",
       "      <td>198.000000</td>\n",
       "      <td>NaN</td>\n",
       "      <td>75.400000</td>\n",
       "      <td>NaN</td>\n",
       "      <td>NaN</td>\n",
       "      <td>NaN</td>\n",
       "      <td>NaN</td>\n",
       "      <td>NaN</td>\n",
       "      <td>NaN</td>\n",
       "      <td>NaN</td>\n",
       "      <td>NaN</td>\n",
       "      <td>39000.000000</td>\n",
       "      <td>10.000000</td>\n",
       "      <td>39000.000000</td>\n",
       "      <td>2009.000000</td>\n",
       "      <td>NaN</td>\n",
       "    </tr>\n",
       "  </tbody>\n",
       "</table>\n",
       "</div>"
      ],
      "text/plain": [
       "             _score         _sort _source.redVarietal  \\\n",
       "count   5548.000000          5548                2051   \n",
       "unique          NaN          5068                  43   \n",
       "top             NaN  ['FIREBALL']      Bordeaux Blend   \n",
       "freq            NaN             7                 563   \n",
       "mean       0.498403           NaN                 NaN   \n",
       "std        0.136803           NaN                 NaN   \n",
       "min        0.200588           NaN                 NaN   \n",
       "25%        0.362997           NaN                 NaN   \n",
       "50%        0.595873           NaN                 NaN   \n",
       "75%        0.601447           NaN                 NaN   \n",
       "max        0.601447           NaN                 NaN   \n",
       "\n",
       "       _source.subCategory.description  _source.consumerRating  \\\n",
       "count                             5548             5548.000000   \n",
       "unique                              39                     NaN   \n",
       "top                        France Wine                     NaN   \n",
       "freq                              1277                     NaN   \n",
       "mean                               NaN                3.593980   \n",
       "std                                NaN                1.271495   \n",
       "min                                NaN                0.000000   \n",
       "25%                                NaN                3.400000   \n",
       "50%                                NaN                3.900000   \n",
       "75%                                NaN                4.300000   \n",
       "max                                NaN                5.000000   \n",
       "\n",
       "       _source.featured  _source.regularPrice _source.isCraft  \\\n",
       "count              5548           5548.000000             462   \n",
       "unique                8                   NaN               2   \n",
       "top                  []                   NaN           False   \n",
       "freq               5367                   NaN             301   \n",
       "mean                NaN            216.672383             NaN   \n",
       "std                 NaN           1549.303348             NaN   \n",
       "min                 NaN              1.990000             NaN   \n",
       "25%                 NaN             19.990000             NaN   \n",
       "50%                 NaN             35.490000             NaN   \n",
       "75%                 NaN             87.990000             NaN   \n",
       "max                 NaN          39000.000000             NaN   \n",
       "\n",
       "       _source.whiteVarietal _source.tastingDescription _source._featured  \\\n",
       "count                   1001                       5548              5548   \n",
       "unique                    29                       4684                 8   \n",
       "top              Other Blend                      False                []   \n",
       "freq                     266                        278              5367   \n",
       "mean                     NaN                        NaN               NaN   \n",
       "std                      NaN                        NaN               NaN   \n",
       "min                      NaN                        NaN               NaN   \n",
       "25%                      NaN                        NaN               NaN   \n",
       "50%                      NaN                        NaN               NaN   \n",
       "75%                      NaN                        NaN               NaN   \n",
       "max                      NaN                        NaN               NaN   \n",
       "\n",
       "        _source.availableUnits _source.subRegion  _source.unitSize  \\\n",
       "count              5548.000000              1953       5548.000000   \n",
       "unique                     NaN                50               NaN   \n",
       "top                        NaN             Other               NaN   \n",
       "freq                       NaN               607               NaN   \n",
       "mean               1454.248198               NaN          1.777758   \n",
       "std                2966.984517               NaN          3.009659   \n",
       "min                   0.000000               NaN          1.000000   \n",
       "25%                  67.000000               NaN          1.000000   \n",
       "50%                 574.000000               NaN          1.000000   \n",
       "75%                1768.250000               NaN          1.000000   \n",
       "max               64554.000000               NaN         36.000000   \n",
       "\n",
       "       _source.isDealcoholizedWine  _source.volume _source.certificates  \\\n",
       "count                            1     5548.000000                 5548   \n",
       "unique                           1             NaN                    7   \n",
       "top                           True             NaN                   []   \n",
       "freq                             1             NaN                 5093   \n",
       "mean                           NaN        0.843881                  NaN   \n",
       "std                            NaN        1.017603                  NaN   \n",
       "min                            NaN        0.030000                  NaN   \n",
       "25%                            NaN        0.750000                  NaN   \n",
       "50%                            NaN        0.750000                  NaN   \n",
       "75%                            NaN        0.750000                  NaN   \n",
       "max                            NaN       18.000000                  NaN   \n",
       "\n",
       "       _source.name _source.style _source.countryName _source.region  \\\n",
       "count          5548           460                5548           2758   \n",
       "unique         5068            26                  65             55   \n",
       "top        FIREBALL         Lager              France       Bordeaux   \n",
       "freq              7           157                1387            610   \n",
       "mean            NaN           NaN                 NaN            NaN   \n",
       "std             NaN           NaN                 NaN            NaN   \n",
       "min             NaN           NaN                 NaN            NaN   \n",
       "25%             NaN           NaN                 NaN            NaN   \n",
       "50%             NaN           NaN                 NaN            NaN   \n",
       "75%             NaN           NaN                 NaN            NaN   \n",
       "max             NaN           NaN                 NaN            NaN   \n",
       "\n",
       "       _source.color _source.grapeType  _source._regularPrice  \\\n",
       "count           3523              3523            5548.000000   \n",
       "unique             4                71                    NaN   \n",
       "top              RED    BORDEAUX BLEND                    NaN   \n",
       "freq            2051               611                    NaN   \n",
       "mean             NaN               NaN             216.672383   \n",
       "std              NaN               NaN            1549.303348   \n",
       "min              NaN               NaN               1.990000   \n",
       "25%              NaN               NaN              19.990000   \n",
       "50%              NaN               NaN              35.490000   \n",
       "75%              NaN               NaN              87.990000   \n",
       "max              NaN               NaN           39000.000000   \n",
       "\n",
       "       _source.isOrganic  _source.storeCount _source.nameSuffix  \\\n",
       "count               5546         5529.000000               5547   \n",
       "unique                 2                 NaN               4500   \n",
       "top                False                 NaN        12 YEAR OLD   \n",
       "freq                5450                 NaN                 26   \n",
       "mean                 NaN           69.521432                NaN   \n",
       "std                  NaN           65.518562                NaN   \n",
       "min                  NaN            1.000000                NaN   \n",
       "25%                  NaN            7.000000                NaN   \n",
       "50%                  NaN           49.000000                NaN   \n",
       "75%                  NaN          123.000000                NaN   \n",
       "max                  NaN          198.000000                NaN   \n",
       "\n",
       "        _source.alcoholPercentage _source.productCategory  \\\n",
       "count                 5548.000000                     475   \n",
       "unique                        NaN                       3   \n",
       "top                           NaN           Domestic Beer   \n",
       "freq                          NaN                     347   \n",
       "mean                    18.977648                     NaN   \n",
       "std                     13.192768                     NaN   \n",
       "min                      0.000000                     NaN   \n",
       "25%                     12.500000                     NaN   \n",
       "50%                     13.500000                     NaN   \n",
       "75%                     17.000000                     NaN   \n",
       "max                     75.400000                     NaN   \n",
       "\n",
       "       _source.all_featured _source.productSubCategory   _source.namePrefix  \\\n",
       "count                  5548                        347                 5087   \n",
       "unique                   14                          3                 1784   \n",
       "top                      []              BC Craft Beer  CABERNET SAUVIGNON    \n",
       "freq                   3172                        206                  187   \n",
       "mean                    NaN                        NaN                  NaN   \n",
       "std                     NaN                        NaN                  NaN   \n",
       "min                     NaN                        NaN                  NaN   \n",
       "25%                     NaN                        NaN                  NaN   \n",
       "50%                     NaN                        NaN                  NaN   \n",
       "75%                     NaN                        NaN                  NaN   \n",
       "max                     NaN                        NaN                  NaN   \n",
       "\n",
       "       _source.countryCode _source.class.description _source.productType  \\\n",
       "count                 5548                      5548                5073   \n",
       "unique                  65                       155                  22   \n",
       "top                     FR           France Red Wine            Red Wine   \n",
       "freq                  1387                       755                2021   \n",
       "mean                   NaN                       NaN                 NaN   \n",
       "std                    NaN                       NaN                 NaN   \n",
       "min                    NaN                       NaN                 NaN   \n",
       "25%                    NaN                       NaN                 NaN   \n",
       "50%                    NaN                       NaN                 NaN   \n",
       "75%                    NaN                       NaN                 NaN   \n",
       "max                    NaN                       NaN                 NaN   \n",
       "\n",
       "       _source.isKosher  _source.currentPrice  _source.sweetness  \\\n",
       "count              5546           5548.000000        2898.000000   \n",
       "unique                2                   NaN                NaN   \n",
       "top               False                   NaN                NaN   \n",
       "freq               5508                   NaN                NaN   \n",
       "mean                NaN            215.900339           0.700138   \n",
       "std                 NaN           1549.375563           2.081728   \n",
       "min                 NaN              1.990000           0.000000   \n",
       "25%                 NaN             18.990000           0.000000   \n",
       "50%                 NaN             34.990000           0.000000   \n",
       "75%                 NaN             86.990000           0.000000   \n",
       "max                 NaN          39000.000000          10.000000   \n",
       "\n",
       "        _source._currentPrice  _source.votes _source.category.description  \n",
       "count             5548.000000    5548.000000                         5548  \n",
       "unique                    NaN            NaN                            5  \n",
       "top                       NaN            NaN                         Wine  \n",
       "freq                      NaN            NaN                         3530  \n",
       "mean               215.900339      75.382300                          NaN  \n",
       "std               1549.375563     103.675391                          NaN  \n",
       "min                  1.990000       0.000000                          NaN  \n",
       "25%                 18.990000       7.000000                          NaN  \n",
       "50%                 34.990000      41.000000                          NaN  \n",
       "75%                 86.990000     107.000000                          NaN  \n",
       "max              39000.000000    2009.000000                          NaN  "
      ]
     },
     "execution_count": 79,
     "metadata": {},
     "output_type": "execute_result"
    }
   ],
   "source": [
    "cols_to_del = [\n",
    "    'Unnamed: 0',\n",
    "    '_id',\n",
    "    '_source.subCategory.id',\n",
    "    '_source.promotionStartDate',\n",
    "    '_source.promotionStartDate',\n",
    "    '_source.promotionEndDate',\n",
    "    '_source._all_featured',\n",
    "    '_source.all_promotions',\n",
    "    '_source.promotions',\n",
    "    '_source.sku',\n",
    "    '_source.sku',\n",
    "    '_source.image',\n",
    "    '_source.upc',\n",
    "    '_source.nameSanitized',\n",
    "    '_source.category.id',\n",
    "    '_source.restrictionCode',\n",
    "    '_source.class.id',\n",
    "]\n",
    "\n",
    "\n",
    "df.drop(columns = cols_to_del, inplace=True, errors='ignore')\n",
    "\n",
    "df.describe(include='all')\n"
   ]
  },
  {
   "cell_type": "code",
   "execution_count": 91,
   "metadata": {},
   "outputs": [
    {
     "data": {
      "text/plain": [
       "array(['White Wine', 'Sparkling Wine', 'Red Wine', 'Rose Wine', 'Sherry',\n",
       "       'Other Wine', 'Sake', 'Port', 'Ice Wine', 'Vermouth',\n",
       "       'De-Alcoholized Wine', nan, 'Other Spirits', 'Whisky / Whiskey',\n",
       "       'Tequila', 'Liqueurs', 'Cognac', 'Vodka', 'Rum', 'Gin', 'Brandy',\n",
       "       'Coolers', 'Cider'], dtype=object)"
      ]
     },
     "execution_count": 91,
     "metadata": {},
     "output_type": "execute_result"
    }
   ],
   "source": [
    "\n",
    "df['_source.productType'].unique() # all other than beer\n",
    "df['_source.productCategory'].unique() # beer\n",
    "df['_source.style'].unique() # beer style e.g. fuit ale, lager, stout\n",
    "\n",
    "# merge white and red wine variety\n",
    "df['_source.whiteVarietal'].unique() \n",
    "df['_source.redVarietal'].unique() \n",
    "\n",
    "\n",
    "df['_source.productType'].unique() # general description (not bad)\n",
    "\n",
    "## RATING               _source.consumerRating\n",
    "## SCORE                _score\n",
    "## VOTES                _source.votes\n",
    "## PRICE                _source.regularPrice\n",
    "## REVIEW               _source.tastingDescription\n",
    "## AVAILABLE_UNITS      _source.availableUnits   \n",
    "## CERTIFICATES         _source.certificates\n",
    "## NAME                 _source.name\n",
    "## BEER STYLE           _source.style'\n",
    "## GENERAL DESCRIPTION  _source.subCategory.description'\n",
    "## ALCOHOL PERCENTAGE   _source.alcoholPercentage\n",
    "## SWEETNESS            _source.sweetness\n",
    "## COUNTRY              _source.countryName"
   ]
  },
  {
   "cell_type": "markdown",
   "metadata": {},
   "source": [
    "## Defining the columns to keep"
   ]
  },
  {
   "cell_type": "code",
   "execution_count": 92,
   "metadata": {},
   "outputs": [
    {
     "data": {
      "text/html": [
       "<div>\n",
       "<style scoped>\n",
       "    .dataframe tbody tr th:only-of-type {\n",
       "        vertical-align: middle;\n",
       "    }\n",
       "\n",
       "    .dataframe tbody tr th {\n",
       "        vertical-align: top;\n",
       "    }\n",
       "\n",
       "    .dataframe thead th {\n",
       "        text-align: right;\n",
       "    }\n",
       "</style>\n",
       "<table border=\"1\" class=\"dataframe\">\n",
       "  <thead>\n",
       "    <tr style=\"text-align: right;\">\n",
       "      <th></th>\n",
       "      <th>_source.consumerRating</th>\n",
       "      <th>_score</th>\n",
       "      <th>_source.votes</th>\n",
       "      <th>_source.regularPrice</th>\n",
       "      <th>_source.tastingDescription</th>\n",
       "      <th>_source.availableUnits</th>\n",
       "      <th>_source.certificates</th>\n",
       "      <th>_source.name</th>\n",
       "      <th>_source.style</th>\n",
       "      <th>_source.subCategory.description</th>\n",
       "      <th>_source.alcoholPercentage</th>\n",
       "      <th>_source.sweetness</th>\n",
       "      <th>_source.countryName</th>\n",
       "    </tr>\n",
       "  </thead>\n",
       "  <tbody>\n",
       "    <tr>\n",
       "      <th>0</th>\n",
       "      <td>3.5</td>\n",
       "      <td>0.601447</td>\n",
       "      <td>84</td>\n",
       "      <td>19.99</td>\n",
       "      <td>90 Points, Gismondi On Wine: \"This pecorino is...</td>\n",
       "      <td>887</td>\n",
       "      <td>[]</td>\n",
       "      <td>ABRUZZO PECORINO - BARONE DI VALFORTE 2020</td>\n",
       "      <td>NaN</td>\n",
       "      <td>Italy Wine</td>\n",
       "      <td>13.0</td>\n",
       "      <td>0.0</td>\n",
       "      <td>Italy</td>\n",
       "    </tr>\n",
       "    <tr>\n",
       "      <th>1</th>\n",
       "      <td>4.1</td>\n",
       "      <td>0.601447</td>\n",
       "      <td>18</td>\n",
       "      <td>14.99</td>\n",
       "      <td>This classic Pinot Grigio shows flavours of ci...</td>\n",
       "      <td>2723</td>\n",
       "      <td>[]</td>\n",
       "      <td>ABRUZZO PINOT GRIGIO - MARE DI SIRENA</td>\n",
       "      <td>NaN</td>\n",
       "      <td>Italy Wine</td>\n",
       "      <td>12.5</td>\n",
       "      <td>0.0</td>\n",
       "      <td>Italy</td>\n",
       "    </tr>\n",
       "    <tr>\n",
       "      <th>2</th>\n",
       "      <td>3.6</td>\n",
       "      <td>0.601447</td>\n",
       "      <td>293</td>\n",
       "      <td>20.99</td>\n",
       "      <td>An aromatic and sweet white sparkling wine. Pa...</td>\n",
       "      <td>2306</td>\n",
       "      <td>[]</td>\n",
       "      <td>ACQUESI  - ASTI</td>\n",
       "      <td>NaN</td>\n",
       "      <td>Italy Wine</td>\n",
       "      <td>7.0</td>\n",
       "      <td>8.0</td>\n",
       "      <td>Italy</td>\n",
       "    </tr>\n",
       "  </tbody>\n",
       "</table>\n",
       "</div>"
      ],
      "text/plain": [
       "   _source.consumerRating    _score  _source.votes  _source.regularPrice  \\\n",
       "0                     3.5  0.601447             84                 19.99   \n",
       "1                     4.1  0.601447             18                 14.99   \n",
       "2                     3.6  0.601447            293                 20.99   \n",
       "\n",
       "                          _source.tastingDescription  _source.availableUnits  \\\n",
       "0  90 Points, Gismondi On Wine: \"This pecorino is...                     887   \n",
       "1  This classic Pinot Grigio shows flavours of ci...                    2723   \n",
       "2  An aromatic and sweet white sparkling wine. Pa...                    2306   \n",
       "\n",
       "  _source.certificates                                _source.name  \\\n",
       "0                   []  ABRUZZO PECORINO - BARONE DI VALFORTE 2020   \n",
       "1                   []       ABRUZZO PINOT GRIGIO - MARE DI SIRENA   \n",
       "2                   []                             ACQUESI  - ASTI   \n",
       "\n",
       "  _source.style _source.subCategory.description  _source.alcoholPercentage  \\\n",
       "0           NaN                      Italy Wine                       13.0   \n",
       "1           NaN                      Italy Wine                       12.5   \n",
       "2           NaN                      Italy Wine                        7.0   \n",
       "\n",
       "   _source.sweetness _source.countryName  \n",
       "0                0.0               Italy  \n",
       "1                0.0               Italy  \n",
       "2                8.0               Italy  "
      ]
     },
     "execution_count": 92,
     "metadata": {},
     "output_type": "execute_result"
    }
   ],
   "source": [
    "COLS_TO_KEEP = [\n",
    "            '_source.consumerRating',\n",
    "            '_score',\n",
    "            '_source.votes',\n",
    "            '_source.regularPrice',\n",
    "            '_source.tastingDescription',\n",
    "            '_source.availableUnits',\n",
    "            '_source.certificates',\n",
    "            '_source.name',\n",
    "            '_source.style',\n",
    "            '_source.subCategory.description',\n",
    "            '_source.alcoholPercentage',\n",
    "            '_source.sweetness',\n",
    "            '_source.countryName'\n",
    "]\n",
    "\n",
    "\n",
    "new_df = df[COLS_TO_KEEP]\n",
    "new_df.head(3)\n"
   ]
  },
  {
   "cell_type": "markdown",
   "metadata": {},
   "source": [
    "## Assigning a latitude and longitude to the unique countries"
   ]
  },
  {
   "cell_type": "code",
   "execution_count": 94,
   "metadata": {},
   "outputs": [
    {
     "name": "stdout",
     "output_type": "stream",
     "text": [
      "Logging Italy, 1/65\n",
      "Logging France, 2/65\n",
      "Logging Spain, 3/65\n",
      "Logging Portugal, 4/65\n",
      "Logging Greece, 5/65\n",
      "Logging Canada, 6/65\n",
      "Logging Argentina, 7/65\n",
      "Logging USA, 8/65\n",
      "Logging Japan, 9/65\n",
      "Logging Australia, 10/65\n",
      "Logging Luxembourg, 11/65\n",
      "Logging Germany, 12/65\n",
      "Logging South Africa, 13/65\n",
      "Logging Korea - South, 14/65\n",
      "Logging Austria, 15/65\n",
      "Logging Uruguay, 16/65\n",
      "Logging Chile, 17/65\n",
      "Logging China, 18/65\n",
      "Logging Israel, 19/65\n",
      "Logging New Zealand, 20/65\n",
      "Logging Lebanon, 21/65\n",
      "Logging Croatia, 22/65\n",
      "Logging Turkey, 23/65\n",
      "Logging United Kingdom, 24/65\n",
      "Logging Hungary, 25/65\n",
      "Logging Georgia, 26/65\n",
      "Logging Bulgaria, 27/65\n",
      "Logging Switzerland, 28/65\n",
      "Logging Montenegro, 29/65\n",
      "Logging Morocco, 30/65\n",
      "Logging Czech Republic, 31/65\n",
      "Logging Netherlands, 32/65\n",
      "Logging Iceland, 33/65\n",
      "Logging Trinidad And Tobago, 34/65\n",
      "Logging Ireland, 35/65\n",
      "Logging Denmark, 36/65\n",
      "Logging Mexico, 37/65\n",
      "Logging Belgium, 38/65\n",
      "Logging Philippines, 39/65\n",
      "Logging Thailand, 40/65\n",
      "Logging Singapore, 41/65\n",
      "Logging Poland, 42/65\n",
      "Logging Slovak Republic, 43/65\n",
      "Logging Sweden, 44/65\n",
      "Logging India, 45/65\n",
      "Logging Jamaica, 46/65\n",
      "Logging Puerto Rico, 47/65\n",
      "Logging Dominican Republic, 48/65\n",
      "Logging Peru, 49/65\n",
      "Logging Barbados, 50/65\n",
      "Logging Serbia, 51/65\n",
      "Logging Venezuela, 52/65\n",
      "Logging Panama, 53/65\n",
      "Logging Brazil, 54/65\n",
      "Logging Virgin Islands, 55/65\n",
      "Logging Guyana, 56/65\n",
      "Logging Finland, 57/65\n",
      "Logging Nicaragua, 58/65\n",
      "Logging Cuba, 59/65\n",
      "Logging Taiwan, 60/65\n",
      "Logging Vietnam, 61/65\n",
      "Logging Ukraine , 62/65\n",
      "Logging Fiji, 63/65\n",
      "Logging Guatemala, 64/65\n",
      "Logging Latvia, 65/65\n"
     ]
    }
   ],
   "source": [
    "longitude = []\n",
    "latitude = []\n",
    "\n",
    "countries = new_df['_source.countryName'].unique()\n",
    "num_countries = len(countries)\n",
    "\n",
    "def findGeocode(city):\n",
    "    # try and catch is used to overcome\n",
    "    # the exception thrown by geolocator\n",
    "    # using geocodertimedout  \n",
    "    try:\n",
    "          \n",
    "        # Specify the user_agent as your\n",
    "        # app name it should not be none\n",
    "        geolocator = Nominatim(user_agent=\"bcl-webscrape\")\n",
    "          \n",
    "        return geolocator.geocode(city)\n",
    "      \n",
    "    except GeocoderTimedOut:\n",
    "          \n",
    "        return findGeocode(city)  \n",
    "\n",
    "count = 1\n",
    "for i in (countries):\n",
    "      \n",
    "    if findGeocode(i) != None:\n",
    "           \n",
    "        loc = findGeocode(i)\n",
    "        # coordinates returned from \n",
    "        # function is stored into\n",
    "        # two separate list\n",
    "        latitude.append(loc.latitude)\n",
    "        longitude.append(loc.longitude)\n",
    "       \n",
    "    # if coordinate for a city not\n",
    "    # found, insert \"NaN\" indicating \n",
    "    # missing value \n",
    "    else:\n",
    "        latitude.append(np.nan)\n",
    "        longitude.append(np.nan)\n",
    "    \n",
    "    print(f'Logging {i}, {count}/{num_countries}')\n",
    "    count += 1"
   ]
  },
  {
   "cell_type": "markdown",
   "metadata": {},
   "source": [
    "## Assigning a country code"
   ]
  },
  {
   "cell_type": "code",
   "execution_count": 95,
   "metadata": {},
   "outputs": [
    {
     "name": "stderr",
     "output_type": "stream",
     "text": [
      "Virgin Islands not found in regex\n",
      "Virgin Islands not found in regex\n"
     ]
    },
    {
     "name": "stdout",
     "output_type": "stream",
     "text": [
      "      country        lat         lon country_code02 country_code03\n",
      "0       Italy  42.638426   12.674297             IT            ITA\n",
      "1      France  46.603354    1.888334             FR            FRA\n",
      "2       Spain  39.326068   -4.837979             ES            ESP\n",
      "3    Portugal  39.662165   -8.135352             PT            PRT\n",
      "4      Greece  38.995368   21.987713             GR            GRC\n",
      "..        ...        ...         ...            ...            ...\n",
      "60    Vietnam  15.926666  107.965086             VN            VNM\n",
      "61   Ukraine   49.487197   31.271832             UA            UKR\n",
      "62       Fiji -18.123970  179.012274             FJ            FJI\n",
      "63  Guatemala  15.585555  -90.345759             GT            GTM\n",
      "64     Latvia  56.840649   24.753764             LV            LVA\n",
      "\n",
      "[65 rows x 5 columns]\n"
     ]
    }
   ],
   "source": [
    "standard_names02 = coco.convert(names=countries, to='ISO2') \n",
    "standard_names03 = coco.convert(names=countries, to='ISO3') \n",
    "\n",
    "country_df = pd.DataFrame({\n",
    "    'country':countries,\n",
    "    'lat':latitude,\n",
    "    'lon':longitude,\n",
    "    'country_code02':standard_names02,\n",
    "    'country_code03':standard_names03\n",
    "})\n",
    "print(country_df)"
   ]
  },
  {
   "cell_type": "markdown",
   "metadata": {},
   "source": [
    "## Adding latitiude, longitude and country code to large dataframe"
   ]
  },
  {
   "cell_type": "code",
   "execution_count": 116,
   "metadata": {},
   "outputs": [],
   "source": [
    "# lat_mat = pd.DataFrame(new_df.apply (lambda row: country_df['lat'].loc[country_df['country'] == row['_source.countryName']], axis=1))\n",
    "# lon_mat = pd.DataFrame(new_df.apply (lambda row: country_df['lon'].loc[country_df['country'] == row['_source.countryName']], axis=1))\n",
    "# coco_mat02 = pd.DataFrame(new_df.apply (lambda row: country_df['country_code02'].loc[country_df['country'] == row['_source.countryName']], axis=1))\n",
    "# coco_mat03 = pd.DataFrame(new_df.apply (lambda row: country_df['country_code03'].loc[country_df['country'] == row['_source.countryName']], axis=1))\n",
    "\n",
    "lat_mat = pd.DataFrame(new_df.apply(lambda row: country_df.loc[country_df['country'] == row['_source.countryName'], 'lat'].values[0], axis=1))\n",
    "lon_mat = pd.DataFrame(new_df.apply(lambda row: country_df.loc[country_df['country'] == row['_source.countryName'], 'lon'].values[0], axis=1))\n",
    "coco_mat02 = pd.DataFrame(new_df.apply(lambda row: country_df.loc[country_df['country'] == row['_source.countryName'], 'country_code02'].values[0], axis=1))\n",
    "coco_mat03 = pd.DataFrame(new_df.apply(lambda row: country_df.loc[country_df['country'] == row['_source.countryName'], 'country_code03'].values[0], axis=1))\n",
    "\n",
    "temp_lat = lat_mat\n",
    "temp_lon = lon_mat\n",
    "temp_coco02 = coco_mat02\n",
    "temp_coco03 = coco_mat03\n",
    "for index in range(int(np.shape(lat_mat)[1])):\n",
    "    temp_lat = pd.DataFrame(temp_lat[0].fillna(lat_mat[index]))\n",
    "    temp_lon = pd.DataFrame(temp_lon[0].fillna(lon_mat[index]))\n",
    "    temp_coco02 = pd.DataFrame(temp_coco02[0].fillna(coco_mat02[index]))\n",
    "    temp_coco03 = pd.DataFrame(temp_coco03[0].fillna(coco_mat03[index]))\n",
    "\n",
    "# new_df['lat'] = temp_lat\n",
    "# new_df['lon'] = temp_lon\n",
    "# new_df['country_code02'] = temp_coco02\n",
    "# new_df['country_code03'] = temp_coco03\n",
    "new_df.loc[:, 'lat'] = temp_lat.squeeze()\n",
    "new_df.loc[:, 'lon'] = temp_lon.squeeze()\n",
    "new_df.loc[:, 'country_code02'] = temp_coco02.squeeze()\n",
    "new_df.loc[:, 'country_code03'] = temp_coco03.squeeze()"
   ]
  },
  {
   "cell_type": "code",
   "execution_count": 138,
   "metadata": {},
   "outputs": [
    {
     "name": "stdout",
     "output_type": "stream",
     "text": [
      "Number of columns = 17\n",
      "Number of rows = 5548\n"
     ]
    },
    {
     "data": {
      "text/html": [
       "<div>\n",
       "<style scoped>\n",
       "    .dataframe tbody tr th:only-of-type {\n",
       "        vertical-align: middle;\n",
       "    }\n",
       "\n",
       "    .dataframe tbody tr th {\n",
       "        vertical-align: top;\n",
       "    }\n",
       "\n",
       "    .dataframe thead th {\n",
       "        text-align: right;\n",
       "    }\n",
       "</style>\n",
       "<table border=\"1\" class=\"dataframe\">\n",
       "  <thead>\n",
       "    <tr style=\"text-align: right;\">\n",
       "      <th></th>\n",
       "      <th>_source.tastingDescription</th>\n",
       "      <th>_source.certificates</th>\n",
       "      <th>_source.name</th>\n",
       "      <th>_source.style</th>\n",
       "      <th>_source.subCategory.description</th>\n",
       "      <th>_source.countryName</th>\n",
       "      <th>country_code02</th>\n",
       "      <th>country_code03</th>\n",
       "    </tr>\n",
       "  </thead>\n",
       "  <tbody>\n",
       "    <tr>\n",
       "      <th>count</th>\n",
       "      <td>5548</td>\n",
       "      <td>5548</td>\n",
       "      <td>5548</td>\n",
       "      <td>460</td>\n",
       "      <td>5548</td>\n",
       "      <td>5548</td>\n",
       "      <td>5548</td>\n",
       "      <td>5548</td>\n",
       "    </tr>\n",
       "    <tr>\n",
       "      <th>unique</th>\n",
       "      <td>4684</td>\n",
       "      <td>7</td>\n",
       "      <td>5068</td>\n",
       "      <td>26</td>\n",
       "      <td>39</td>\n",
       "      <td>65</td>\n",
       "      <td>65</td>\n",
       "      <td>65</td>\n",
       "    </tr>\n",
       "    <tr>\n",
       "      <th>top</th>\n",
       "      <td>False</td>\n",
       "      <td>[]</td>\n",
       "      <td>FIREBALL</td>\n",
       "      <td>Lager</td>\n",
       "      <td>France Wine</td>\n",
       "      <td>France</td>\n",
       "      <td>FR</td>\n",
       "      <td>FRA</td>\n",
       "    </tr>\n",
       "    <tr>\n",
       "      <th>freq</th>\n",
       "      <td>278</td>\n",
       "      <td>5093</td>\n",
       "      <td>7</td>\n",
       "      <td>157</td>\n",
       "      <td>1277</td>\n",
       "      <td>1387</td>\n",
       "      <td>1387</td>\n",
       "      <td>1387</td>\n",
       "    </tr>\n",
       "  </tbody>\n",
       "</table>\n",
       "</div>"
      ],
      "text/plain": [
       "       _source.tastingDescription _source.certificates _source.name  \\\n",
       "count                        5548                 5548         5548   \n",
       "unique                       4684                    7         5068   \n",
       "top                         False                   []     FIREBALL   \n",
       "freq                          278                 5093            7   \n",
       "\n",
       "       _source.style _source.subCategory.description _source.countryName  \\\n",
       "count            460                            5548                5548   \n",
       "unique            26                              39                  65   \n",
       "top            Lager                     France Wine              France   \n",
       "freq             157                            1277                1387   \n",
       "\n",
       "       country_code02 country_code03  \n",
       "count            5548           5548  \n",
       "unique             65             65  \n",
       "top                FR            FRA  \n",
       "freq             1387           1387  "
      ]
     },
     "execution_count": 138,
     "metadata": {},
     "output_type": "execute_result"
    }
   ],
   "source": [
    "new_df.head(3)\n",
    "\n",
    "print(f'Number of columns = {len(new_df.columns)}')\n",
    "print(f'Number of rows = {new_df.shape[0]}')\n",
    "\n",
    "new_df.describe(include='object')\n",
    "\n"
   ]
  },
  {
   "cell_type": "code",
   "execution_count": 142,
   "metadata": {},
   "outputs": [
    {
     "data": {
      "text/plain": [
       "4684"
      ]
     },
     "execution_count": 142,
     "metadata": {},
     "output_type": "execute_result"
    }
   ],
   "source": [
    "len(new_df['_source.tastingDescription'].unique())"
   ]
  },
  {
   "cell_type": "markdown",
   "metadata": {},
   "source": [
    "## Correlation matrix"
   ]
  },
  {
   "cell_type": "code",
   "execution_count": 128,
   "metadata": {},
   "outputs": [
    {
     "data": {
      "application/vnd.plotly.v1+json": {
       "config": {
        "plotlyServerURL": "https://plot.ly"
       },
       "data": [
        {
         "colorscale": [
          [
           0,
           "rgb(103,0,31)"
          ],
          [
           0.1,
           "rgb(178,24,43)"
          ],
          [
           0.2,
           "rgb(214,96,77)"
          ],
          [
           0.3,
           "rgb(244,165,130)"
          ],
          [
           0.4,
           "rgb(253,219,199)"
          ],
          [
           0.5,
           "rgb(247,247,247)"
          ],
          [
           0.6,
           "rgb(209,229,240)"
          ],
          [
           0.7,
           "rgb(146,197,222)"
          ],
          [
           0.8,
           "rgb(67,147,195)"
          ],
          [
           0.9,
           "rgb(33,102,172)"
          ],
          [
           1,
           "rgb(5,48,97)"
          ]
         ],
         "type": "heatmap",
         "x": [
          "_source.consumerRating",
          "_score",
          "_source.votes",
          "_source.regularPrice",
          "_source.availableUnits",
          "_source.alcoholPercentage",
          "_source.sweetness"
         ],
         "y": [
          "_source.consumerRating",
          "_score",
          "_source.votes",
          "_source.regularPrice",
          "_source.availableUnits",
          "_source.alcoholPercentage",
          "_source.sweetness"
         ],
         "z": [
          [
           1,
           -0.10138601810829109,
           0.13877482587416864,
           -0.02104771663520173,
           0.05533707093081939,
           0.076294620328519,
           0.0013488482306335274
          ],
          [
           -0.10138601810829109,
           1,
           -0.2211721476536244,
           -0.03450564474838585,
           -0.20725828453612,
           -0.3789660478542744,
           -0.0174441234552705
          ],
          [
           0.13877482587416864,
           -0.2211721476536244,
           1,
           -0.030854268496443894,
           0.3307095513329515,
           0.10525665342064919,
           -0.005827463227158894
          ],
          [
           -0.02104771663520173,
           -0.03450564474838585,
           -0.030854268496443894,
           1,
           -0.060086919754283395,
           0.12343178375156039,
           0.010462921897882685
          ],
          [
           0.05533707093081939,
           -0.20725828453612,
           0.3307095513329515,
           -0.060086919754283395,
           1,
           -0.026933013850125732,
           -0.02775457030598135
          ],
          [
           0.076294620328519,
           -0.3789660478542744,
           0.10525665342064919,
           0.12343178375156039,
           -0.026933013850125732,
           1,
           0.15158974450622237
          ],
          [
           0.0013488482306335274,
           -0.0174441234552705,
           -0.005827463227158894,
           0.010462921897882685,
           -0.02775457030598135,
           0.15158974450622237,
           1
          ]
         ],
         "zmax": 1,
         "zmin": -1
        }
       ],
       "layout": {
        "height": 600,
        "template": {
         "data": {
          "bar": [
           {
            "error_x": {
             "color": "#2a3f5f"
            },
            "error_y": {
             "color": "#2a3f5f"
            },
            "marker": {
             "line": {
              "color": "#E5ECF6",
              "width": 0.5
             },
             "pattern": {
              "fillmode": "overlay",
              "size": 10,
              "solidity": 0.2
             }
            },
            "type": "bar"
           }
          ],
          "barpolar": [
           {
            "marker": {
             "line": {
              "color": "#E5ECF6",
              "width": 0.5
             },
             "pattern": {
              "fillmode": "overlay",
              "size": 10,
              "solidity": 0.2
             }
            },
            "type": "barpolar"
           }
          ],
          "carpet": [
           {
            "aaxis": {
             "endlinecolor": "#2a3f5f",
             "gridcolor": "white",
             "linecolor": "white",
             "minorgridcolor": "white",
             "startlinecolor": "#2a3f5f"
            },
            "baxis": {
             "endlinecolor": "#2a3f5f",
             "gridcolor": "white",
             "linecolor": "white",
             "minorgridcolor": "white",
             "startlinecolor": "#2a3f5f"
            },
            "type": "carpet"
           }
          ],
          "choropleth": [
           {
            "colorbar": {
             "outlinewidth": 0,
             "ticks": ""
            },
            "type": "choropleth"
           }
          ],
          "contour": [
           {
            "colorbar": {
             "outlinewidth": 0,
             "ticks": ""
            },
            "colorscale": [
             [
              0,
              "#0d0887"
             ],
             [
              0.1111111111111111,
              "#46039f"
             ],
             [
              0.2222222222222222,
              "#7201a8"
             ],
             [
              0.3333333333333333,
              "#9c179e"
             ],
             [
              0.4444444444444444,
              "#bd3786"
             ],
             [
              0.5555555555555556,
              "#d8576b"
             ],
             [
              0.6666666666666666,
              "#ed7953"
             ],
             [
              0.7777777777777778,
              "#fb9f3a"
             ],
             [
              0.8888888888888888,
              "#fdca26"
             ],
             [
              1,
              "#f0f921"
             ]
            ],
            "type": "contour"
           }
          ],
          "contourcarpet": [
           {
            "colorbar": {
             "outlinewidth": 0,
             "ticks": ""
            },
            "type": "contourcarpet"
           }
          ],
          "heatmap": [
           {
            "colorbar": {
             "outlinewidth": 0,
             "ticks": ""
            },
            "colorscale": [
             [
              0,
              "#0d0887"
             ],
             [
              0.1111111111111111,
              "#46039f"
             ],
             [
              0.2222222222222222,
              "#7201a8"
             ],
             [
              0.3333333333333333,
              "#9c179e"
             ],
             [
              0.4444444444444444,
              "#bd3786"
             ],
             [
              0.5555555555555556,
              "#d8576b"
             ],
             [
              0.6666666666666666,
              "#ed7953"
             ],
             [
              0.7777777777777778,
              "#fb9f3a"
             ],
             [
              0.8888888888888888,
              "#fdca26"
             ],
             [
              1,
              "#f0f921"
             ]
            ],
            "type": "heatmap"
           }
          ],
          "heatmapgl": [
           {
            "colorbar": {
             "outlinewidth": 0,
             "ticks": ""
            },
            "colorscale": [
             [
              0,
              "#0d0887"
             ],
             [
              0.1111111111111111,
              "#46039f"
             ],
             [
              0.2222222222222222,
              "#7201a8"
             ],
             [
              0.3333333333333333,
              "#9c179e"
             ],
             [
              0.4444444444444444,
              "#bd3786"
             ],
             [
              0.5555555555555556,
              "#d8576b"
             ],
             [
              0.6666666666666666,
              "#ed7953"
             ],
             [
              0.7777777777777778,
              "#fb9f3a"
             ],
             [
              0.8888888888888888,
              "#fdca26"
             ],
             [
              1,
              "#f0f921"
             ]
            ],
            "type": "heatmapgl"
           }
          ],
          "histogram": [
           {
            "marker": {
             "pattern": {
              "fillmode": "overlay",
              "size": 10,
              "solidity": 0.2
             }
            },
            "type": "histogram"
           }
          ],
          "histogram2d": [
           {
            "colorbar": {
             "outlinewidth": 0,
             "ticks": ""
            },
            "colorscale": [
             [
              0,
              "#0d0887"
             ],
             [
              0.1111111111111111,
              "#46039f"
             ],
             [
              0.2222222222222222,
              "#7201a8"
             ],
             [
              0.3333333333333333,
              "#9c179e"
             ],
             [
              0.4444444444444444,
              "#bd3786"
             ],
             [
              0.5555555555555556,
              "#d8576b"
             ],
             [
              0.6666666666666666,
              "#ed7953"
             ],
             [
              0.7777777777777778,
              "#fb9f3a"
             ],
             [
              0.8888888888888888,
              "#fdca26"
             ],
             [
              1,
              "#f0f921"
             ]
            ],
            "type": "histogram2d"
           }
          ],
          "histogram2dcontour": [
           {
            "colorbar": {
             "outlinewidth": 0,
             "ticks": ""
            },
            "colorscale": [
             [
              0,
              "#0d0887"
             ],
             [
              0.1111111111111111,
              "#46039f"
             ],
             [
              0.2222222222222222,
              "#7201a8"
             ],
             [
              0.3333333333333333,
              "#9c179e"
             ],
             [
              0.4444444444444444,
              "#bd3786"
             ],
             [
              0.5555555555555556,
              "#d8576b"
             ],
             [
              0.6666666666666666,
              "#ed7953"
             ],
             [
              0.7777777777777778,
              "#fb9f3a"
             ],
             [
              0.8888888888888888,
              "#fdca26"
             ],
             [
              1,
              "#f0f921"
             ]
            ],
            "type": "histogram2dcontour"
           }
          ],
          "mesh3d": [
           {
            "colorbar": {
             "outlinewidth": 0,
             "ticks": ""
            },
            "type": "mesh3d"
           }
          ],
          "parcoords": [
           {
            "line": {
             "colorbar": {
              "outlinewidth": 0,
              "ticks": ""
             }
            },
            "type": "parcoords"
           }
          ],
          "pie": [
           {
            "automargin": true,
            "type": "pie"
           }
          ],
          "scatter": [
           {
            "fillpattern": {
             "fillmode": "overlay",
             "size": 10,
             "solidity": 0.2
            },
            "type": "scatter"
           }
          ],
          "scatter3d": [
           {
            "line": {
             "colorbar": {
              "outlinewidth": 0,
              "ticks": ""
             }
            },
            "marker": {
             "colorbar": {
              "outlinewidth": 0,
              "ticks": ""
             }
            },
            "type": "scatter3d"
           }
          ],
          "scattercarpet": [
           {
            "marker": {
             "colorbar": {
              "outlinewidth": 0,
              "ticks": ""
             }
            },
            "type": "scattercarpet"
           }
          ],
          "scattergeo": [
           {
            "marker": {
             "colorbar": {
              "outlinewidth": 0,
              "ticks": ""
             }
            },
            "type": "scattergeo"
           }
          ],
          "scattergl": [
           {
            "marker": {
             "colorbar": {
              "outlinewidth": 0,
              "ticks": ""
             }
            },
            "type": "scattergl"
           }
          ],
          "scattermapbox": [
           {
            "marker": {
             "colorbar": {
              "outlinewidth": 0,
              "ticks": ""
             }
            },
            "type": "scattermapbox"
           }
          ],
          "scatterpolar": [
           {
            "marker": {
             "colorbar": {
              "outlinewidth": 0,
              "ticks": ""
             }
            },
            "type": "scatterpolar"
           }
          ],
          "scatterpolargl": [
           {
            "marker": {
             "colorbar": {
              "outlinewidth": 0,
              "ticks": ""
             }
            },
            "type": "scatterpolargl"
           }
          ],
          "scatterternary": [
           {
            "marker": {
             "colorbar": {
              "outlinewidth": 0,
              "ticks": ""
             }
            },
            "type": "scatterternary"
           }
          ],
          "surface": [
           {
            "colorbar": {
             "outlinewidth": 0,
             "ticks": ""
            },
            "colorscale": [
             [
              0,
              "#0d0887"
             ],
             [
              0.1111111111111111,
              "#46039f"
             ],
             [
              0.2222222222222222,
              "#7201a8"
             ],
             [
              0.3333333333333333,
              "#9c179e"
             ],
             [
              0.4444444444444444,
              "#bd3786"
             ],
             [
              0.5555555555555556,
              "#d8576b"
             ],
             [
              0.6666666666666666,
              "#ed7953"
             ],
             [
              0.7777777777777778,
              "#fb9f3a"
             ],
             [
              0.8888888888888888,
              "#fdca26"
             ],
             [
              1,
              "#f0f921"
             ]
            ],
            "type": "surface"
           }
          ],
          "table": [
           {
            "cells": {
             "fill": {
              "color": "#EBF0F8"
             },
             "line": {
              "color": "white"
             }
            },
            "header": {
             "fill": {
              "color": "#C8D4E3"
             },
             "line": {
              "color": "white"
             }
            },
            "type": "table"
           }
          ]
         },
         "layout": {
          "annotationdefaults": {
           "arrowcolor": "#2a3f5f",
           "arrowhead": 0,
           "arrowwidth": 1
          },
          "autotypenumbers": "strict",
          "coloraxis": {
           "colorbar": {
            "outlinewidth": 0,
            "ticks": ""
           }
          },
          "colorscale": {
           "diverging": [
            [
             0,
             "#8e0152"
            ],
            [
             0.1,
             "#c51b7d"
            ],
            [
             0.2,
             "#de77ae"
            ],
            [
             0.3,
             "#f1b6da"
            ],
            [
             0.4,
             "#fde0ef"
            ],
            [
             0.5,
             "#f7f7f7"
            ],
            [
             0.6,
             "#e6f5d0"
            ],
            [
             0.7,
             "#b8e186"
            ],
            [
             0.8,
             "#7fbc41"
            ],
            [
             0.9,
             "#4d9221"
            ],
            [
             1,
             "#276419"
            ]
           ],
           "sequential": [
            [
             0,
             "#0d0887"
            ],
            [
             0.1111111111111111,
             "#46039f"
            ],
            [
             0.2222222222222222,
             "#7201a8"
            ],
            [
             0.3333333333333333,
             "#9c179e"
            ],
            [
             0.4444444444444444,
             "#bd3786"
            ],
            [
             0.5555555555555556,
             "#d8576b"
            ],
            [
             0.6666666666666666,
             "#ed7953"
            ],
            [
             0.7777777777777778,
             "#fb9f3a"
            ],
            [
             0.8888888888888888,
             "#fdca26"
            ],
            [
             1,
             "#f0f921"
            ]
           ],
           "sequentialminus": [
            [
             0,
             "#0d0887"
            ],
            [
             0.1111111111111111,
             "#46039f"
            ],
            [
             0.2222222222222222,
             "#7201a8"
            ],
            [
             0.3333333333333333,
             "#9c179e"
            ],
            [
             0.4444444444444444,
             "#bd3786"
            ],
            [
             0.5555555555555556,
             "#d8576b"
            ],
            [
             0.6666666666666666,
             "#ed7953"
            ],
            [
             0.7777777777777778,
             "#fb9f3a"
            ],
            [
             0.8888888888888888,
             "#fdca26"
            ],
            [
             1,
             "#f0f921"
            ]
           ]
          },
          "colorway": [
           "#636efa",
           "#EF553B",
           "#00cc96",
           "#ab63fa",
           "#FFA15A",
           "#19d3f3",
           "#FF6692",
           "#B6E880",
           "#FF97FF",
           "#FECB52"
          ],
          "font": {
           "color": "#2a3f5f"
          },
          "geo": {
           "bgcolor": "white",
           "lakecolor": "white",
           "landcolor": "#E5ECF6",
           "showlakes": true,
           "showland": true,
           "subunitcolor": "white"
          },
          "hoverlabel": {
           "align": "left"
          },
          "hovermode": "closest",
          "mapbox": {
           "style": "light"
          },
          "paper_bgcolor": "white",
          "plot_bgcolor": "#E5ECF6",
          "polar": {
           "angularaxis": {
            "gridcolor": "white",
            "linecolor": "white",
            "ticks": ""
           },
           "bgcolor": "#E5ECF6",
           "radialaxis": {
            "gridcolor": "white",
            "linecolor": "white",
            "ticks": ""
           }
          },
          "scene": {
           "xaxis": {
            "backgroundcolor": "#E5ECF6",
            "gridcolor": "white",
            "gridwidth": 2,
            "linecolor": "white",
            "showbackground": true,
            "ticks": "",
            "zerolinecolor": "white"
           },
           "yaxis": {
            "backgroundcolor": "#E5ECF6",
            "gridcolor": "white",
            "gridwidth": 2,
            "linecolor": "white",
            "showbackground": true,
            "ticks": "",
            "zerolinecolor": "white"
           },
           "zaxis": {
            "backgroundcolor": "#E5ECF6",
            "gridcolor": "white",
            "gridwidth": 2,
            "linecolor": "white",
            "showbackground": true,
            "ticks": "",
            "zerolinecolor": "white"
           }
          },
          "shapedefaults": {
           "line": {
            "color": "#2a3f5f"
           }
          },
          "ternary": {
           "aaxis": {
            "gridcolor": "white",
            "linecolor": "white",
            "ticks": ""
           },
           "baxis": {
            "gridcolor": "white",
            "linecolor": "white",
            "ticks": ""
           },
           "bgcolor": "#E5ECF6",
           "caxis": {
            "gridcolor": "white",
            "linecolor": "white",
            "ticks": ""
           }
          },
          "title": {
           "x": 0.05
          },
          "xaxis": {
           "automargin": true,
           "gridcolor": "white",
           "linecolor": "white",
           "ticks": "",
           "title": {
            "standoff": 15
           },
           "zerolinecolor": "white",
           "zerolinewidth": 2
          },
          "yaxis": {
           "automargin": true,
           "gridcolor": "white",
           "linecolor": "white",
           "ticks": "",
           "title": {
            "standoff": 15
           },
           "zerolinecolor": "white",
           "zerolinewidth": 2
          }
         }
        },
        "title": {
         "text": "Correlation Matrix"
        },
        "width": 800,
        "xaxis": {
         "nticks": 36
        }
       }
      }
     },
     "metadata": {},
     "output_type": "display_data"
    }
   ],
   "source": [
    "COLS_FOR_CORR = ['_source.consumerRating',\n",
    "            '_score',\n",
    "            '_source.votes',\n",
    "            '_source.regularPrice',\n",
    "            '_source.availableUnits',\n",
    "            '_source.alcoholPercentage',\n",
    "            '_source.sweetness']\n",
    "\n",
    "\n",
    "# Calculate correlation matrix\n",
    "corr_matrix = new_df[COLS_FOR_CORR].corr()\n",
    "\n",
    "# Create a heatmap using Plotly\n",
    "fig = go.Figure(data=go.Heatmap(\n",
    "    z=corr_matrix.values,  # Correlation values\n",
    "    x=corr_matrix.columns,  # Column names for x-axis\n",
    "    y=corr_matrix.columns,  # Column names for y-axis\n",
    "    colorscale='RdBu',   # Color scale\n",
    "    zmin=-1, zmax=1,        # Set the color range from -1 to 1\n",
    "))\n",
    "\n",
    "# Add a title to the heatmap\n",
    "fig.update_layout(title='Correlation Matrix', \n",
    "                  xaxis_nticks=36,\n",
    "                  width=800,\n",
    "                 height=600, )\n",
    "\n",
    "\n",
    "# Show the heatmap\n",
    "fig.show()\n",
    "\n"
   ]
  },
  {
   "cell_type": "markdown",
   "metadata": {},
   "source": [
    "## Saving dataframe into .csv so we can do analysis on it later"
   ]
  },
  {
   "cell_type": "code",
   "execution_count": 144,
   "metadata": {},
   "outputs": [],
   "source": [
    "new_df.to_csv('data/for-analysis.csv', index=False) \n"
   ]
  },
  {
   "cell_type": "markdown",
   "metadata": {},
   "source": [
    "## Counting alcohol per country"
   ]
  },
  {
   "cell_type": "code",
   "execution_count": 60,
   "metadata": {},
   "outputs": [],
   "source": [
    "num_p_country = np.zeros(len(country_df['country'].index))\n",
    "\n",
    "for index, country in enumerate(country_df['country']):\n",
    "    num = len(df.loc[df['_source.countryName'] == country].index)\n",
    "    num_p_country[index] = num\n",
    "\n",
    "country_df['num_p_country'] = num_p_country"
   ]
  },
  {
   "cell_type": "markdown",
   "metadata": {},
   "source": [
    "## Plotting interactive graph to visualise where BCL products come from\n",
    "\n",
    "https://plotly.com/python/map-configuration/"
   ]
  },
  {
   "cell_type": "code",
   "execution_count": 61,
   "metadata": {},
   "outputs": [
    {
     "data": {
      "text/html": [
       "        <script type=\"text/javascript\">\n",
       "        window.PlotlyConfig = {MathJaxConfig: 'local'};\n",
       "        if (window.MathJax && window.MathJax.Hub && window.MathJax.Hub.Config) {window.MathJax.Hub.Config({SVG: {font: \"STIX-Web\"}});}\n",
       "        if (typeof require !== 'undefined') {\n",
       "        require.undef(\"plotly\");\n",
       "        requirejs.config({\n",
       "            paths: {\n",
       "                'plotly': ['https://cdn.plot.ly/plotly-2.18.2.min']\n",
       "            }\n",
       "        });\n",
       "        require(['plotly'], function(Plotly) {\n",
       "            window._Plotly = Plotly;\n",
       "        });\n",
       "        }\n",
       "        </script>\n",
       "        "
      ]
     },
     "metadata": {},
     "output_type": "display_data"
    },
    {
     "data": {
      "text/html": [
       "<div>                            <div id=\"ee14d7f5-1080-475f-a9b1-d2bd58840a1c\" class=\"plotly-graph-div\" style=\"height:525px; width:100%;\"></div>            <script type=\"text/javascript\">                require([\"plotly\"], function(Plotly) {                    window.PLOTLYENV=window.PLOTLYENV || {};                                    if (document.getElementById(\"ee14d7f5-1080-475f-a9b1-d2bd58840a1c\")) {                    Plotly.newPlot(                        \"ee14d7f5-1080-475f-a9b1-d2bd58840a1c\",                        [{\"autocolorscale\":false,\"colorbar\":{\"tickprefix\":\"\",\"title\":{\"text\":\"No. Products\"}},\"colorscale\":[[0.0,\"rgb(247,251,255)\"],[0.125,\"rgb(222,235,247)\"],[0.25,\"rgb(198,219,239)\"],[0.375,\"rgb(158,202,225)\"],[0.5,\"rgb(107,174,214)\"],[0.625,\"rgb(66,146,198)\"],[0.75,\"rgb(33,113,181)\"],[0.875,\"rgb(8,81,156)\"],[1.0,\"rgb(8,48,107)\"]],\"locations\":[\"ITA\",\"FRA\",\"ESP\",\"PRT\",\"GRC\",\"CAN\",\"ARG\",\"USA\",\"JPN\",\"AUS\",\"LUX\",\"DEU\",\"ZAF\",\"KOR\",\"AUT\",\"URY\",\"CHL\",\"CHN\",\"ISR\",\"NZL\",\"LBN\",\"HRV\",\"TUR\",\"GBR\",\"HUN\",\"GEO\",\"BGR\",\"CHE\",\"MNE\",\"MAR\",\"CZE\",\"NLD\",\"ISL\",\"TTO\",\"IRL\",\"DNK\",\"MEX\",\"BEL\",\"PHL\",\"THA\",\"SGP\",\"POL\",\"SVK\",\"SWE\",\"IND\",\"JAM\",\"PRI\",\"DOM\",\"PER\",\"BRB\",\"SRB\",\"VEN\",\"PAN\",\"BRA\",\"not found\",\"GUY\",\"FIN\",\"NIC\",\"CUB\",\"TWN\",\"VNM\",\"UKR\",\"FJI\",\"GTM\",\"LVA\"],\"marker\":{\"line\":{\"color\":\"darkgray\",\"width\":0.5}},\"reversescale\":false,\"z\":[506.0,1387.0,136.0,102.0,11.0,1260.0,87.0,511.0,84.0,197.0,1.0,79.0,56.0,19.0,10.0,2.0,152.0,47.0,7.0,95.0,2.0,8.0,3.0,375.0,11.0,4.0,1.0,1.0,1.0,1.0,8.0,32.0,1.0,15.0,83.0,10.0,116.0,13.0,2.0,1.0,1.0,13.0,1.0,17.0,5.0,12.0,4.0,5.0,1.0,7.0,3.0,3.0,1.0,2.0,4.0,6.0,3.0,4.0,3.0,3.0,1.0,1.0,1.0,2.0,8.0],\"type\":\"choropleth\"}],                        {\"template\":{\"data\":{\"histogram2dcontour\":[{\"type\":\"histogram2dcontour\",\"colorbar\":{\"outlinewidth\":0,\"ticks\":\"\"},\"colorscale\":[[0.0,\"#0d0887\"],[0.1111111111111111,\"#46039f\"],[0.2222222222222222,\"#7201a8\"],[0.3333333333333333,\"#9c179e\"],[0.4444444444444444,\"#bd3786\"],[0.5555555555555556,\"#d8576b\"],[0.6666666666666666,\"#ed7953\"],[0.7777777777777778,\"#fb9f3a\"],[0.8888888888888888,\"#fdca26\"],[1.0,\"#f0f921\"]]}],\"choropleth\":[{\"type\":\"choropleth\",\"colorbar\":{\"outlinewidth\":0,\"ticks\":\"\"}}],\"histogram2d\":[{\"type\":\"histogram2d\",\"colorbar\":{\"outlinewidth\":0,\"ticks\":\"\"},\"colorscale\":[[0.0,\"#0d0887\"],[0.1111111111111111,\"#46039f\"],[0.2222222222222222,\"#7201a8\"],[0.3333333333333333,\"#9c179e\"],[0.4444444444444444,\"#bd3786\"],[0.5555555555555556,\"#d8576b\"],[0.6666666666666666,\"#ed7953\"],[0.7777777777777778,\"#fb9f3a\"],[0.8888888888888888,\"#fdca26\"],[1.0,\"#f0f921\"]]}],\"heatmap\":[{\"type\":\"heatmap\",\"colorbar\":{\"outlinewidth\":0,\"ticks\":\"\"},\"colorscale\":[[0.0,\"#0d0887\"],[0.1111111111111111,\"#46039f\"],[0.2222222222222222,\"#7201a8\"],[0.3333333333333333,\"#9c179e\"],[0.4444444444444444,\"#bd3786\"],[0.5555555555555556,\"#d8576b\"],[0.6666666666666666,\"#ed7953\"],[0.7777777777777778,\"#fb9f3a\"],[0.8888888888888888,\"#fdca26\"],[1.0,\"#f0f921\"]]}],\"heatmapgl\":[{\"type\":\"heatmapgl\",\"colorbar\":{\"outlinewidth\":0,\"ticks\":\"\"},\"colorscale\":[[0.0,\"#0d0887\"],[0.1111111111111111,\"#46039f\"],[0.2222222222222222,\"#7201a8\"],[0.3333333333333333,\"#9c179e\"],[0.4444444444444444,\"#bd3786\"],[0.5555555555555556,\"#d8576b\"],[0.6666666666666666,\"#ed7953\"],[0.7777777777777778,\"#fb9f3a\"],[0.8888888888888888,\"#fdca26\"],[1.0,\"#f0f921\"]]}],\"contourcarpet\":[{\"type\":\"contourcarpet\",\"colorbar\":{\"outlinewidth\":0,\"ticks\":\"\"}}],\"contour\":[{\"type\":\"contour\",\"colorbar\":{\"outlinewidth\":0,\"ticks\":\"\"},\"colorscale\":[[0.0,\"#0d0887\"],[0.1111111111111111,\"#46039f\"],[0.2222222222222222,\"#7201a8\"],[0.3333333333333333,\"#9c179e\"],[0.4444444444444444,\"#bd3786\"],[0.5555555555555556,\"#d8576b\"],[0.6666666666666666,\"#ed7953\"],[0.7777777777777778,\"#fb9f3a\"],[0.8888888888888888,\"#fdca26\"],[1.0,\"#f0f921\"]]}],\"surface\":[{\"type\":\"surface\",\"colorbar\":{\"outlinewidth\":0,\"ticks\":\"\"},\"colorscale\":[[0.0,\"#0d0887\"],[0.1111111111111111,\"#46039f\"],[0.2222222222222222,\"#7201a8\"],[0.3333333333333333,\"#9c179e\"],[0.4444444444444444,\"#bd3786\"],[0.5555555555555556,\"#d8576b\"],[0.6666666666666666,\"#ed7953\"],[0.7777777777777778,\"#fb9f3a\"],[0.8888888888888888,\"#fdca26\"],[1.0,\"#f0f921\"]]}],\"mesh3d\":[{\"type\":\"mesh3d\",\"colorbar\":{\"outlinewidth\":0,\"ticks\":\"\"}}],\"scatter\":[{\"fillpattern\":{\"fillmode\":\"overlay\",\"size\":10,\"solidity\":0.2},\"type\":\"scatter\"}],\"parcoords\":[{\"type\":\"parcoords\",\"line\":{\"colorbar\":{\"outlinewidth\":0,\"ticks\":\"\"}}}],\"scatterpolargl\":[{\"type\":\"scatterpolargl\",\"marker\":{\"colorbar\":{\"outlinewidth\":0,\"ticks\":\"\"}}}],\"bar\":[{\"error_x\":{\"color\":\"#2a3f5f\"},\"error_y\":{\"color\":\"#2a3f5f\"},\"marker\":{\"line\":{\"color\":\"#E5ECF6\",\"width\":0.5},\"pattern\":{\"fillmode\":\"overlay\",\"size\":10,\"solidity\":0.2}},\"type\":\"bar\"}],\"scattergeo\":[{\"type\":\"scattergeo\",\"marker\":{\"colorbar\":{\"outlinewidth\":0,\"ticks\":\"\"}}}],\"scatterpolar\":[{\"type\":\"scatterpolar\",\"marker\":{\"colorbar\":{\"outlinewidth\":0,\"ticks\":\"\"}}}],\"histogram\":[{\"marker\":{\"pattern\":{\"fillmode\":\"overlay\",\"size\":10,\"solidity\":0.2}},\"type\":\"histogram\"}],\"scattergl\":[{\"type\":\"scattergl\",\"marker\":{\"colorbar\":{\"outlinewidth\":0,\"ticks\":\"\"}}}],\"scatter3d\":[{\"type\":\"scatter3d\",\"line\":{\"colorbar\":{\"outlinewidth\":0,\"ticks\":\"\"}},\"marker\":{\"colorbar\":{\"outlinewidth\":0,\"ticks\":\"\"}}}],\"scattermapbox\":[{\"type\":\"scattermapbox\",\"marker\":{\"colorbar\":{\"outlinewidth\":0,\"ticks\":\"\"}}}],\"scatterternary\":[{\"type\":\"scatterternary\",\"marker\":{\"colorbar\":{\"outlinewidth\":0,\"ticks\":\"\"}}}],\"scattercarpet\":[{\"type\":\"scattercarpet\",\"marker\":{\"colorbar\":{\"outlinewidth\":0,\"ticks\":\"\"}}}],\"carpet\":[{\"aaxis\":{\"endlinecolor\":\"#2a3f5f\",\"gridcolor\":\"white\",\"linecolor\":\"white\",\"minorgridcolor\":\"white\",\"startlinecolor\":\"#2a3f5f\"},\"baxis\":{\"endlinecolor\":\"#2a3f5f\",\"gridcolor\":\"white\",\"linecolor\":\"white\",\"minorgridcolor\":\"white\",\"startlinecolor\":\"#2a3f5f\"},\"type\":\"carpet\"}],\"table\":[{\"cells\":{\"fill\":{\"color\":\"#EBF0F8\"},\"line\":{\"color\":\"white\"}},\"header\":{\"fill\":{\"color\":\"#C8D4E3\"},\"line\":{\"color\":\"white\"}},\"type\":\"table\"}],\"barpolar\":[{\"marker\":{\"line\":{\"color\":\"#E5ECF6\",\"width\":0.5},\"pattern\":{\"fillmode\":\"overlay\",\"size\":10,\"solidity\":0.2}},\"type\":\"barpolar\"}],\"pie\":[{\"automargin\":true,\"type\":\"pie\"}]},\"layout\":{\"autotypenumbers\":\"strict\",\"colorway\":[\"#636efa\",\"#EF553B\",\"#00cc96\",\"#ab63fa\",\"#FFA15A\",\"#19d3f3\",\"#FF6692\",\"#B6E880\",\"#FF97FF\",\"#FECB52\"],\"font\":{\"color\":\"#2a3f5f\"},\"hovermode\":\"closest\",\"hoverlabel\":{\"align\":\"left\"},\"paper_bgcolor\":\"white\",\"plot_bgcolor\":\"#E5ECF6\",\"polar\":{\"bgcolor\":\"#E5ECF6\",\"angularaxis\":{\"gridcolor\":\"white\",\"linecolor\":\"white\",\"ticks\":\"\"},\"radialaxis\":{\"gridcolor\":\"white\",\"linecolor\":\"white\",\"ticks\":\"\"}},\"ternary\":{\"bgcolor\":\"#E5ECF6\",\"aaxis\":{\"gridcolor\":\"white\",\"linecolor\":\"white\",\"ticks\":\"\"},\"baxis\":{\"gridcolor\":\"white\",\"linecolor\":\"white\",\"ticks\":\"\"},\"caxis\":{\"gridcolor\":\"white\",\"linecolor\":\"white\",\"ticks\":\"\"}},\"coloraxis\":{\"colorbar\":{\"outlinewidth\":0,\"ticks\":\"\"}},\"colorscale\":{\"sequential\":[[0.0,\"#0d0887\"],[0.1111111111111111,\"#46039f\"],[0.2222222222222222,\"#7201a8\"],[0.3333333333333333,\"#9c179e\"],[0.4444444444444444,\"#bd3786\"],[0.5555555555555556,\"#d8576b\"],[0.6666666666666666,\"#ed7953\"],[0.7777777777777778,\"#fb9f3a\"],[0.8888888888888888,\"#fdca26\"],[1.0,\"#f0f921\"]],\"sequentialminus\":[[0.0,\"#0d0887\"],[0.1111111111111111,\"#46039f\"],[0.2222222222222222,\"#7201a8\"],[0.3333333333333333,\"#9c179e\"],[0.4444444444444444,\"#bd3786\"],[0.5555555555555556,\"#d8576b\"],[0.6666666666666666,\"#ed7953\"],[0.7777777777777778,\"#fb9f3a\"],[0.8888888888888888,\"#fdca26\"],[1.0,\"#f0f921\"]],\"diverging\":[[0,\"#8e0152\"],[0.1,\"#c51b7d\"],[0.2,\"#de77ae\"],[0.3,\"#f1b6da\"],[0.4,\"#fde0ef\"],[0.5,\"#f7f7f7\"],[0.6,\"#e6f5d0\"],[0.7,\"#b8e186\"],[0.8,\"#7fbc41\"],[0.9,\"#4d9221\"],[1,\"#276419\"]]},\"xaxis\":{\"gridcolor\":\"white\",\"linecolor\":\"white\",\"ticks\":\"\",\"title\":{\"standoff\":15},\"zerolinecolor\":\"white\",\"automargin\":true,\"zerolinewidth\":2},\"yaxis\":{\"gridcolor\":\"white\",\"linecolor\":\"white\",\"ticks\":\"\",\"title\":{\"standoff\":15},\"zerolinecolor\":\"white\",\"automargin\":true,\"zerolinewidth\":2},\"scene\":{\"xaxis\":{\"backgroundcolor\":\"#E5ECF6\",\"gridcolor\":\"white\",\"linecolor\":\"white\",\"showbackground\":true,\"ticks\":\"\",\"zerolinecolor\":\"white\",\"gridwidth\":2},\"yaxis\":{\"backgroundcolor\":\"#E5ECF6\",\"gridcolor\":\"white\",\"linecolor\":\"white\",\"showbackground\":true,\"ticks\":\"\",\"zerolinecolor\":\"white\",\"gridwidth\":2},\"zaxis\":{\"backgroundcolor\":\"#E5ECF6\",\"gridcolor\":\"white\",\"linecolor\":\"white\",\"showbackground\":true,\"ticks\":\"\",\"zerolinecolor\":\"white\",\"gridwidth\":2}},\"shapedefaults\":{\"line\":{\"color\":\"#2a3f5f\"}},\"annotationdefaults\":{\"arrowcolor\":\"#2a3f5f\",\"arrowhead\":0,\"arrowwidth\":1},\"geo\":{\"bgcolor\":\"white\",\"landcolor\":\"#E5ECF6\",\"subunitcolor\":\"white\",\"showland\":true,\"showlakes\":true,\"lakecolor\":\"white\"},\"title\":{\"x\":0.05},\"mapbox\":{\"style\":\"light\"}}},\"title\":{\"text\":\"BCL products from country\"},\"geo\":{\"projection\":{\"type\":\"equirectangular\"},\"showframe\":true,\"showcoastlines\":true},\"annotations\":[{\"showarrow\":false,\"text\":\"Source: <a href=\\\"https://www.cia.gov/library/publications/the-world-factbook/fields/2195.html\\\">            CIA World Factbook</a>\",\"x\":0.55,\"xref\":\"paper\",\"y\":0.1,\"yref\":\"paper\"}]},                        {\"responsive\": true}                    ).then(function(){\n",
       "                            \n",
       "var gd = document.getElementById('ee14d7f5-1080-475f-a9b1-d2bd58840a1c');\n",
       "var x = new MutationObserver(function (mutations, observer) {{\n",
       "        var display = window.getComputedStyle(gd).display;\n",
       "        if (!display || display === 'none') {{\n",
       "            console.log([gd, 'removed!']);\n",
       "            Plotly.purge(gd);\n",
       "            observer.disconnect();\n",
       "        }}\n",
       "}});\n",
       "\n",
       "// Listen for the removal of the full notebook cells\n",
       "var notebookContainer = gd.closest('#notebook-container');\n",
       "if (notebookContainer) {{\n",
       "    x.observe(notebookContainer, {childList: true});\n",
       "}}\n",
       "\n",
       "// Listen for the clearing of the current output cell\n",
       "var outputEl = gd.closest('.output');\n",
       "if (outputEl) {{\n",
       "    x.observe(outputEl, {childList: true});\n",
       "}}\n",
       "\n",
       "                        })                };                });            </script>        </div>"
      ]
     },
     "metadata": {},
     "output_type": "display_data"
    }
   ],
   "source": [
    "fig = go.Figure(data=go.Choropleth(\n",
    "    locations = country_df['country_code03'],\n",
    "    z = country_df['num_p_country'],\n",
    "    colorscale = 'Blues',\n",
    "    autocolorscale=False,\n",
    "    reversescale=False,\n",
    "    marker_line_color='darkgray',\n",
    "    marker_line_width=0.5,\n",
    "    colorbar_tickprefix = '',\n",
    "    colorbar_title = 'No. Products',\n",
    "))\n",
    "\n",
    "fig.update_layout(\n",
    "    title_text='BCL products from country',\n",
    "    geo=dict(\n",
    "        showframe=True,\n",
    "        showcoastlines=True,\n",
    "        projection_type='equirectangular'\n",
    "    ),\n",
    "    annotations = [dict(\n",
    "        x=0.55,\n",
    "        y=0.1,\n",
    "        xref='paper',\n",
    "        yref='paper',\n",
    "        text='Source: <a href=\"https://www.cia.gov/library/publications/the-world-factbook/fields/2195.html\">\\\n",
    "            CIA World Factbook</a>',\n",
    "        showarrow = False\n",
    "    )]\n",
    ")\n",
    "\n",
    "\n",
    "fig.show(renderer=\"notebook_connected\")"
   ]
  },
  {
   "cell_type": "markdown",
   "metadata": {},
   "source": [
    "## Useful Links for plotting these graphs\n",
    "\n",
    "https://towardsdatascience.com/work-with-geospatial-data-and-create-interactive-maps-using-geopy-and-plotly-28178d2868f1 </br>\n",
    "https://plotly.com/python/choropleth-maps/ </br>\n",
    "https://raw.githubusercontent.com/plotly/datasets/master/2014_world_gdp_with_codes.csv </br>\n",
    "https://www.infragistics.com/help/reveal/location-data-requirements </br>"
   ]
  }
 ],
 "metadata": {
  "interpreter": {
   "hash": "0e2107cc9ef879e1b2f9014241e04e37a6c168e2d5d06ed8ed1ddde4dc2ce9f0"
  },
  "kernelspec": {
   "display_name": "Python 3.8.2 ('first_r_python_env')",
   "language": "python",
   "name": "python3"
  },
  "language_info": {
   "codemirror_mode": {
    "name": "ipython",
    "version": 3
   },
   "file_extension": ".py",
   "mimetype": "text/x-python",
   "name": "python",
   "nbconvert_exporter": "python",
   "pygments_lexer": "ipython3",
   "version": "3.10.13"
  },
  "orig_nbformat": 4
 },
 "nbformat": 4,
 "nbformat_minor": 2
}
